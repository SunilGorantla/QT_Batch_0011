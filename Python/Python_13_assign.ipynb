{
 "cells": [
  {
   "cell_type": "markdown",
   "id": "71e4c883",
   "metadata": {},
   "source": [
    "# Weird Algorithm"
   ]
  },
  {
   "cell_type": "code",
   "execution_count": 3,
   "id": "7b6e61be",
   "metadata": {},
   "outputs": [
    {
     "name": "stdout",
     "output_type": "stream",
     "text": [
      "please enter na value:3\n",
      "[10, 5.0, 16.0, 8.0, 4.0, 2.0, 1.0]\n"
     ]
    }
   ],
   "source": [
    "n=int(input(\"please enter na value:\"))\n",
    "list =[]\n",
    "while n>1:\n",
    "    \n",
    "    if n%2 == 0:\n",
    "        n=n/2\n",
    "        list.append(n)\n",
    "    else:\n",
    "        n=n*3 +1\n",
    "        list.append(n)    \n",
    "        \n",
    "print(list)"
   ]
  },
  {
   "cell_type": "markdown",
   "id": "6b46df91",
   "metadata": {},
   "source": [
    "# missing_number"
   ]
  },
  {
   "cell_type": "code",
   "execution_count": 6,
   "id": "4928ac4a",
   "metadata": {},
   "outputs": [
    {
     "name": "stdout",
     "output_type": "stream",
     "text": [
      "Missing number: 4\n"
     ]
    }
   ],
   "source": [
    "def find_missing_number(n, arr):\n",
    "  expected_sum = n * (n + 1) // 2\n",
    "  actual_sum = sum(arr)\n",
    "  return expected_sum - actual_sum\n",
    "n = 5\n",
    "arr = [2, 3, 1, 5]\n",
    "missing_number = find_missing_number(n, arr)\n",
    "print(\"Missing number:\", missing_number)\n"
   ]
  },
  {
   "cell_type": "markdown",
   "id": "ef68c632",
   "metadata": {},
   "source": [
    "# increasing array"
   ]
  },
  {
   "cell_type": "code",
   "execution_count": 7,
   "id": "1cada884",
   "metadata": {},
   "outputs": [
    {
     "name": "stdout",
     "output_type": "stream",
     "text": [
      "Minimum moves: 7\n"
     ]
    }
   ],
   "source": [
    "def min_moves_to_increase(arr):\n",
    " \n",
    "  moves = 0\n",
    "  for i in range(1, len(arr)):\n",
    "    if arr[i] <= arr[i - 1]:\n",
    "      moves += arr[i - 1] - arr[i] + 1\n",
    "      arr[i] = arr[i - 1] + 1\n",
    "  return moves\n",
    "\n",
    "arr = [3, 2, 5, 1, 7]\n",
    "min_moves = min_moves_to_increase(arr)\n",
    "print(\"Minimum moves:\", min_moves)\n"
   ]
  },
  {
   "cell_type": "markdown",
   "id": "bd3e5a3e",
   "metadata": {},
   "source": [
    "# permutations"
   ]
  },
  {
   "cell_type": "code",
   "execution_count": 10,
   "id": "11a5d3a9",
   "metadata": {},
   "outputs": [
    {
     "name": "stdout",
     "output_type": "stream",
     "text": [
      "5\n",
      "2 4 1 3 5\n"
     ]
    }
   ],
   "source": [
    "def beautiful_permutation(n):\n",
    "    if n == 1:\n",
    "        return [1]\n",
    "    elif n == 2 or n == 3:\n",
    "        return \"NO SOLUTION\"\n",
    "    else:\n",
    "        evens = [i for i in range(2, n+1, 2)]\n",
    "        odds = [i for i in range(1, n+1, 2)]\n",
    "        return evens + odds\n",
    "    \n",
    "n = int(input())\n",
    "result = beautiful_permutation(n)\n",
    "\n",
    "if isinstance(result, str):\n",
    "    print(result)\n",
    "else:\n",
    "    print(\" \".join(map(str, result)))\n"
   ]
  },
  {
   "cell_type": "markdown",
   "id": "6222c49e",
   "metadata": {},
   "source": [
    "# Two sets"
   ]
  },
  {
   "cell_type": "code",
   "execution_count": 3,
   "id": "ac6ee291",
   "metadata": {},
   "outputs": [
    {
     "name": "stdout",
     "output_type": "stream",
     "text": [
      "3\n",
      "YES\n",
      "1 [3]\n",
      "2 [1, 2]\n"
     ]
    }
   ],
   "source": [
    "def can_partition(n):\n",
    "    \n",
    "  total_sum = n * (n + 1) // 2\n",
    "\n",
    "  if total_sum % 2 != 0:\n",
    "    return False, None\n",
    "\n",
    "  target_sum = total_sum // 2\n",
    "\n",
    "  first_set = set()\n",
    "  current_sum = 0\n",
    "  i = n\n",
    "\n",
    "  while current_sum < target_sum and i > 0:\n",
    "    current_sum += i\n",
    "    first_set.add(i)\n",
    "    i -= 1\n",
    "\n",
    "  if current_sum != target_sum:\n",
    "    return False, None\n",
    "\n",
    "  second_set = set(range(1, n + 1)) - first_set\n",
    "\n",
    "  return True, (len(first_set), sorted(first_set), len(second_set), sorted(second_set))\n",
    "\n",
    "if __name__ == \"__main__\":\n",
    "  n = int(input())\n",
    "  possible, sets = can_partition(n)\n",
    "\n",
    "  if possible:\n",
    "    print(\"YES\")\n",
    "    print(*sets[0:2])\n",
    "    print(*sets[2:])\n",
    "  else:\n",
    "    print(\"NO\")\n"
   ]
  },
  {
   "cell_type": "markdown",
   "id": "e86b0351",
   "metadata": {},
   "source": [
    "# Bit strings"
   ]
  },
  {
   "cell_type": "code",
   "execution_count": 5,
   "id": "532bd74a",
   "metadata": {},
   "outputs": [
    {
     "name": "stdout",
     "output_type": "stream",
     "text": [
      "5\n",
      "8\n"
     ]
    }
   ],
   "source": [
    "MOD = 10**9 + 7\n",
    "\n",
    "def count_bit_strings(n):\n",
    " of strings ending in 0 or 1 for length n-1 is the same.\n",
    "  dp = [1, 1]  \n",
    "    \n",
    "  for i in range(2, n + 1):\n",
    "    dp.append((dp[i - 1] + dp[i - 2]) % MOD)\n",
    "\n",
    "  return dp[n]\n",
    "\n",
    "if __name__ == \"__main__\":\n",
    "  n = int(input())\n",
    "  result = count_bit_strings(n)\n",
    "  print(result)\n"
   ]
  },
  {
   "cell_type": "markdown",
   "id": "af760469",
   "metadata": {},
   "source": [
    "# Trailing zeros"
   ]
  },
  {
   "cell_type": "code",
   "execution_count": 6,
   "id": "cc3385c9",
   "metadata": {},
   "outputs": [
    {
     "name": "stdout",
     "output_type": "stream",
     "text": [
      "20\n",
      "4\n"
     ]
    }
   ],
   "source": [
    "MOD = 10**9 + 7\n",
    "\n",
    "def count_trailing_zeros(n):\n",
    "  \n",
    "  count = 0\n",
    "  i = 5\n",
    "\n",
    "  while n // i > 0:\n",
    "    count += n // i\n",
    "    i *= 5\n",
    "\n",
    "  return count % MOD\n",
    "\n",
    "if __name__ == \"__main__\":\n",
    "  n = int(input())\n",
    "  result = count_trailing_zeros(n)\n",
    "  print(result)\n"
   ]
  },
  {
   "cell_type": "markdown",
   "id": "9a5c4012",
   "metadata": {},
   "source": [
    "# Coin piles"
   ]
  },
  {
   "cell_type": "code",
   "execution_count": 8,
   "id": "7b29c16b",
   "metadata": {},
   "outputs": [
    {
     "name": "stdout",
     "output_type": "stream",
     "text": [
      "3\n",
      "2 1\n",
      "YES\n",
      "2 2\n",
      "NO\n",
      "3 3\n",
      "YES\n"
     ]
    }
   ],
   "source": [
    "def can_empty_piles(a, b):\n",
    " \n",
    "  return (a + b) % 3 == 0\n",
    "\n",
    "if __name__ == \"__main__\":\n",
    "  t = int(input())\n",
    "  for _ in range(t):\n",
    "    a, b = map(int, input().split())\n",
    "    if can_empty_piles(a, b):\n",
    "      print(\"YES\")\n",
    "    else:\n",
    "      print(\"NO\")\n"
   ]
  },
  {
   "cell_type": "markdown",
   "id": "b51df59e",
   "metadata": {},
   "source": [
    "# Palindrome"
   ]
  },
  {
   "cell_type": "code",
   "execution_count": 10,
   "id": "7b4de43e",
   "metadata": {},
   "outputs": [
    {
     "name": "stdout",
     "output_type": "stream",
     "text": [
      "AAAACACBA\n",
      "AAACBBCAAA\n"
     ]
    }
   ],
   "source": [
    "from collections import Counter\n",
    "\n",
    "def reorder_to_palindrome(s):\n",
    "  \n",
    "  char_counts = Counter(s)\n",
    "\n",
    "  odd_count = 0\n",
    "  for count in char_counts.values():\n",
    "    if count % 2 != 0:\n",
    "      odd_count += 1\n",
    "      if odd_count > 1:\n",
    "        return \"NO SOLUTION\"\n",
    "\n",
    "  middle_char = None\n",
    "  if len(s) % 2 != 0:\n",
    "    for char, count in char_counts.items():\n",
    "      if count % 2 != 0:\n",
    "        middle_char = char\n",
    "        break\n",
    "\n",
    "  result = []\n",
    "  for char, count in char_counts.items():\n",
    "    if char == middle_char:\n",
    "      continue\n",
    "    result.extend([char] * (count // 2))\n",
    "  if middle_char:\n",
    "    result.append(middle_char)\n",
    "  result.extend(result[::-1])\n",
    "  return \"\".join(result)\n",
    "\n",
    "if __name__ == \"__main__\":\n",
    "  s = input()\n",
    "  result = reorder_to_palindrome(s)\n",
    "  print(result)\n"
   ]
  },
  {
   "cell_type": "markdown",
   "id": "c9c3dc2c",
   "metadata": {},
   "source": [
    "# Gray code"
   ]
  },
  {
   "cell_type": "code",
   "execution_count": 11,
   "id": "39057095",
   "metadata": {},
   "outputs": [
    {
     "name": "stdout",
     "output_type": "stream",
     "text": [
      "2\n",
      "00\n",
      "01\n",
      "11\n",
      "10\n"
     ]
    }
   ],
   "source": [
    "def generate_gray_code(n):\n",
    " \n",
    "  if n == 1:\n",
    "    return [\"0\", \"1\"]\n",
    "\n",
    "  prev_code = generate_gray_code(n - 1)\n",
    "\n",
    "  result = []\n",
    "  for code in prev_code:\n",
    "    \n",
    "    result.append(\"0\" + code)\n",
    "\n",
    "  for code in prev_code[::-1]:\n",
    "    result.append(\"1\" + code)\n",
    "\n",
    "  return result\n",
    "\n",
    "if __name__ == \"__main__\":\n",
    "  n = int(input())\n",
    "  gray_code = generate_gray_code(n)\n",
    "  for code in gray_code:\n",
    "    print(code)\n"
   ]
  },
  {
   "cell_type": "markdown",
   "id": "a3871b2e",
   "metadata": {},
   "source": [
    "# Tower of hanoi"
   ]
  },
  {
   "cell_type": "code",
   "execution_count": 13,
   "id": "45d892f2",
   "metadata": {},
   "outputs": [
    {
     "name": "stdout",
     "output_type": "stream",
     "text": [
      "2\n",
      "3\n",
      "1 2\n",
      "1 3\n",
      "2 3\n"
     ]
    }
   ],
   "source": [
    "def hanoi(n, source, auxiliary, target):\n",
    " \n",
    "  if n == 1:\n",
    "    print(f\"{source} {target}\")\n",
    "  else:\n",
    "    hanoi(n - 1, source, target, auxiliary)\n",
    "    print(f\"{source} {target}\")\n",
    "    hanoi(n - 1, auxiliary, source, target)\n",
    "\n",
    "if __name__ == \"__main__\":\n",
    "  n = int(input())\n",
    "  \n",
    "  total_moves = 2**n - 1\n",
    "  print(total_moves)\n",
    "  hanoi(n, '1', '2', '3')\n"
   ]
  },
  {
   "cell_type": "markdown",
   "id": "e7054235",
   "metadata": {},
   "source": [
    "# creating strings"
   ]
  },
  {
   "cell_type": "code",
   "execution_count": 15,
   "id": "ef9081a7",
   "metadata": {},
   "outputs": [
    {
     "name": "stdout",
     "output_type": "stream",
     "text": [
      "aabac\n",
      "0\n"
     ]
    }
   ],
   "source": [
    "from collections import Counter\n",
    "\n",
    "def generate_permutations(s):\n",
    " \n",
    "  char_counts = Counter(s)\n",
    "\n",
    "  def generate_permutations_helper(current_string, remaining):\n",
    "    if not remaining:\n",
    "      \n",
    "      yield current_string\n",
    "    for char, count in char_counts.items():\n",
    "      if count > 0:\n",
    "        char_counts[char] -= 1  \n",
    "        yield from generate_permutations_helper(current_string + char, remaining)\n",
    "        char_counts[char] += 1  \n",
    "\n",
    "  permutations = sorted(generate_permutations_helper(\"\", len(s)))\n",
    "  return permutations\n",
    "\n",
    "if __name__ == \"__main__\":\n",
    "  s = input()\n",
    "  permutations = generate_permutations(s)\n",
    "  print(len(permutations))\n",
    "  for permutation in permutations:\n",
    "    print(permutation)\n"
   ]
  },
  {
   "cell_type": "markdown",
   "id": "4fe79a73",
   "metadata": {},
   "source": [
    "# apple division"
   ]
  },
  {
   "cell_type": "code",
   "execution_count": 16,
   "id": "808408f5",
   "metadata": {},
   "outputs": [
    {
     "name": "stdout",
     "output_type": "stream",
     "text": [
      "5\n",
      "3 2 7 4 1\n",
      "1\n"
     ]
    }
   ],
   "source": [
    "def min_weight_diff(weights):\n",
    " \n",
    "  total_weight = sum(weights)\n",
    "\n",
    "  n = len(weights)\n",
    "  target_sum = total_weight // 2\n",
    "  dp = [float('inf')] * (target_sum + 1)\n",
    "  dp[0] = 0 \n",
    "  for weight in weights:\n",
    "    for j in range(target_sum, weight - 1, -1):\n",
    "    \n",
    "      dp[j] = min(dp[j], dp[j - weight] + weight)  \n",
    "\n",
    "  return total_weight - 2 * dp[target_sum]  \n",
    "\n",
    "if __name__ == \"__main__\":\n",
    "  n = int(input())\n",
    "  weights = list(map(int, input().split()))\n",
    "  min_diff = min_weight_diff(weights)\n",
    "  print(min_diff)\n"
   ]
  },
  {
   "cell_type": "markdown",
   "id": "2c680d9e",
   "metadata": {},
   "source": [
    "# chessboard"
   ]
  },
  {
   "cell_type": "code",
   "execution_count": null,
   "id": "8e1e7ba0",
   "metadata": {},
   "outputs": [],
   "source": [
    "def is_valid(board, row, col):\n",
    "  \n",
    "  n = len(board)\n",
    "\n",
    "\n",
    "  for i in range(n):\n",
    "    if board[row][i] == 'Q' or board[i][col] == 'Q':\n",
    "      return False\n",
    "\n",
    "  i, j = row + 1, col + 1\n",
    "  while i < n and j < n and board[i][j] != '*':\n",
    "    if board[i][j] == 'Q':\n",
    "      return False\n",
    "    i += 1\n",
    "    j += 1\n",
    "\n",
    "  i, j = row + 1, col - 1\n",
    "  while i < n and j >= 0 and board[i][j] != '*':\n",
    "    if board[i][j] == 'Q':\n",
    "      return False\n",
    "    i += 1\n",
    "    j -= 1\n",
    "\n",
    "  i, j = row - 1, col + 1\n",
    "  while i >= 0 and j < n and board[i][j] != '*':\n",
    "    if board[i][j] == 'Q':\n",
    "      return False\n",
    "    i -= 1\n",
    "    j += 1\n",
    "\n",
    "  i, j = row - 1, col - 1\n",
    "  while i >= 0 and j >= 0 and board[i][j] != '*':\n",
    "    if board[i][j] == 'Q':\n",
    "      return False\n",
    "    i -= 1\n",
    "    j -= 1\n",
    "\n",
    "  return True\n",
    "\n",
    "def backtrack(board, col):\n",
    " \n",
    "  n = len(board)\n",
    "  if col == n:\n",
    "    return 1  \n",
    "\n",
    "  count = 0\n",
    "  for row in range(n):\n",
    "    \n",
    "    if board[row][col] == '*':\n",
    "      continue\n",
    "\n",
    "    if is_valid(board, row, col):\n",
    "      board[row][col] = 'Q'  \n",
    "      count += backtrack(board, col + 1)  \n",
    "      board[row][col] = '.'  \n",
    "\n",
    "  return count\n",
    "\n",
    "def solve(board):\n",
    " \n",
    "  return backtrack(board, 0)\n",
    "\n",
    "if __name__ == \"__main__\":\n",
    "  board = []\n",
    "  for _ in range(8):\n",
    "    board.append(list(input()))\n",
    "  num_placements = solve(board)\n",
    "  print(num_placements)\n"
   ]
  },
  {
   "cell_type": "markdown",
   "id": "9f439dd2",
   "metadata": {},
   "source": [
    "# Digit queries"
   ]
  },
  {
   "cell_type": "code",
   "execution_count": null,
   "id": "9cd3862e",
   "metadata": {},
   "outputs": [],
   "source": [
    "def find_digit(k):\n",
    " \n",
    "  if k <= 9:\n",
    "    return k\n",
    "\n",
    "  digit_count = 0\n",
    "  i = 1\n",
    "  while digit_count < k:\n",
    "\n",
    "    new_digit_count = digit_count + i * 9\n",
    "    if new_digit_count >= k:\n",
    "    \n",
    "      break\n",
    "    digit_count = new_digit_count\n",
    "    i += 1\n",
    "\n",
    "  num_numbers = (k - digit_count) // i\n",
    "\n",
    "\n",
    "  start_number = 10**(i - 1)\n",
    "\n",
    "  number_index = (k - digit_count) % i\n",
    "\n",
    "  digit = str(start_number + number_index)[number_index]\n",
    "\n",
    "  return int(digit)\n",
    "\n",
    "if __name__ == \"__main__\":\n",
    "  q = int(input())\n",
    "  for _ in range(q):\n",
    "    k = int(input())\n",
    "    digit = find_digit(k)\n",
    "    print(digit)\n"
   ]
  },
  {
   "cell_type": "code",
   "execution_count": null,
   "id": "ec7a26e2",
   "metadata": {},
   "outputs": [],
   "source": []
  },
  {
   "cell_type": "code",
   "execution_count": null,
   "id": "0e411120",
   "metadata": {},
   "outputs": [],
   "source": []
  },
  {
   "cell_type": "code",
   "execution_count": null,
   "id": "71d64864",
   "metadata": {},
   "outputs": [],
   "source": []
  },
  {
   "cell_type": "code",
   "execution_count": null,
   "id": "57862f31",
   "metadata": {},
   "outputs": [],
   "source": []
  },
  {
   "cell_type": "code",
   "execution_count": null,
   "id": "479c4e19",
   "metadata": {},
   "outputs": [],
   "source": []
  }
 ],
 "metadata": {
  "kernelspec": {
   "display_name": "Python 3 (ipykernel)",
   "language": "python",
   "name": "python3"
  },
  "language_info": {
   "codemirror_mode": {
    "name": "ipython",
    "version": 3
   },
   "file_extension": ".py",
   "mimetype": "text/x-python",
   "name": "python",
   "nbconvert_exporter": "python",
   "pygments_lexer": "ipython3",
   "version": "3.11.4"
  }
 },
 "nbformat": 4,
 "nbformat_minor": 5
}
