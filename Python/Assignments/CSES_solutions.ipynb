{
 "cells": [
  {
   "cell_type": "code",
   "execution_count": 6,
   "metadata": {},
   "outputs": [
    {
     "name": "stdout",
     "output_type": "stream",
     "text": [
      "3 10 5 16 8 4 2 1\n"
     ]
    }
   ],
   "source": [
    "# Weird Algorithm\n",
    "\n",
    "def weird_algorithm(x):\n",
    "    results = [x]\n",
    "    while x > 1:\n",
    "        \n",
    "        if x % 2 == 0:\n",
    "            x = x/2\n",
    "        elif x % 2 == 1:\n",
    "            x = x*3 + 1\n",
    "\n",
    "        results.append(x)\n",
    "\n",
    "    print(' '.join([str(int(i)) for i in results]))\n",
    "\n",
    "\n",
    "test_case = int(input())\n",
    "weird_algorithm(test_case)\n"
   ]
  },
  {
   "cell_type": "code",
   "execution_count": 12,
   "metadata": {},
   "outputs": [
    {
     "name": "stdout",
     "output_type": "stream",
     "text": [
      "4\n"
     ]
    }
   ],
   "source": [
    "# Missing Number\n",
    "def missing_number():\n",
    "    n = int(input())\n",
    "    missing_value = int(n*(n+1)/2)\n",
    "    values = input()\n",
    "    for i in values.split(' '):\n",
    "        missing_value -= int(i)\n",
    "    print(missing_value)\n",
    "\n",
    "missing_number()\n",
    "\n"
   ]
  },
  {
   "cell_type": "code",
   "execution_count": 17,
   "metadata": {},
   "outputs": [
    {
     "name": "stdout",
     "output_type": "stream",
     "text": [
      "5\n"
     ]
    }
   ],
   "source": [
    "# Repetitions\n",
    "\n",
    "def repetitions():\n",
    "\n",
    "    string = input()\n",
    "    max_length = 0\n",
    "    length = 1\n",
    "    prev_string = ''\n",
    "    for i in string:\n",
    "        if i == prev_string:\n",
    "            length += 1\n",
    "        else:\n",
    "            length = 1\n",
    "        if length > max_length:\n",
    "            max_length = length\n",
    "        prev_string = i\n",
    "    print(max_length)\n",
    "\n",
    "repetitions()\n",
    "    "
   ]
  },
  {
   "cell_type": "code",
   "execution_count": 26,
   "metadata": {},
   "outputs": [
    {
     "name": "stdout",
     "output_type": "stream",
     "text": [
      "5\n"
     ]
    }
   ],
   "source": [
    "# Increasing Array\n",
    "\n",
    "def increment_array():\n",
    "    n = int(input())\n",
    "    if n != 0:\n",
    "        arr = [int(i) for i in input().split(' ')]\n",
    "        moves = 0\n",
    "        prev_number = arr[0]\n",
    "        for i in arr:\n",
    "            if i < prev_number:\n",
    "                moves += prev_number - i\n",
    "            else:\n",
    "                prev_number = i\n",
    "        print(moves)\n",
    "    else:\n",
    "        pass\n",
    "\n",
    "increment_array()\n",
    "\n"
   ]
  },
  {
   "cell_type": "code",
   "execution_count": 29,
   "metadata": {},
   "outputs": [
    {
     "name": "stdout",
     "output_type": "stream",
     "text": [
      "2 4 6 8 10 1 3 5 7 9\n"
     ]
    }
   ],
   "source": [
    "# Permutations\n",
    "\n",
    "def permutations():\n",
    "    n = int(input())\n",
    "    if n == 1:\n",
    "        return 1\n",
    "    elif n == 2 or n == 3:\n",
    "        print(\"NO SOLUTION\")\n",
    "    else:\n",
    "        even_numbers = [str(i) for i in range(2, n+1, 2)]\n",
    "        odd_numbers = [str(i) for i in range(1, n+1, 2)]\n",
    "        print(' '.join(even_numbers + odd_numbers))\n",
    "\n",
    "permutations()\n",
    "        "
   ]
  },
  {
   "cell_type": "code",
   "execution_count": 30,
   "metadata": {},
   "outputs": [
    {
     "name": "stdout",
     "output_type": "stream",
     "text": [
      "19\n"
     ]
    }
   ],
   "source": [
    "# Spiral Numbers\n",
    "\n",
    "def spiral_number(x,y):\n",
    "    if x < y:\n",
    "        x,y = y,x\n",
    "    if y%2==1:\n",
    "        print(y*y - x + 1)\n",
    "    else:\n",
    "        print((y-1)*(y-1) + x)\n",
    "    \n",
    "n = int(input())\n",
    "\n",
    "for i in range(n):\n",
    "    x,y = (int(i) for i in input().split(' '))\n",
    "    spiral_number(x,y)"
   ]
  },
  {
   "cell_type": "code",
   "execution_count": 35,
   "metadata": {},
   "outputs": [
    {
     "name": "stdout",
     "output_type": "stream",
     "text": [
      "0\n",
      "6\n",
      "28\n",
      "96\n",
      "252\n",
      "550\n",
      "1056\n",
      "1848\n"
     ]
    }
   ],
   "source": [
    "# Two Knights\n",
    "\n",
    "def knight_positions(n):\n",
    "    for k in range(1, n+1):\n",
    "        total_combinations = k**2 * (k**2 - 1)//2\n",
    "        attaching_positions = 4*(k-1)*(k-2)\n",
    "        non_attaching_posisitions = total_combinations - attaching_positions\n",
    "        print(non_attaching_posisitions)\n",
    "\n",
    "n = int(input())\n",
    "knight_positions(n)"
   ]
  },
  {
   "cell_type": "code",
   "execution_count": null,
   "metadata": {},
   "outputs": [],
   "source": []
  }
 ],
 "metadata": {
  "kernelspec": {
   "display_name": "env_tf",
   "language": "python",
   "name": "python3"
  },
  "language_info": {
   "codemirror_mode": {
    "name": "ipython",
    "version": 3
   },
   "file_extension": ".py",
   "mimetype": "text/x-python",
   "name": "python",
   "nbconvert_exporter": "python",
   "pygments_lexer": "ipython3",
   "version": "3.9.9"
  }
 },
 "nbformat": 4,
 "nbformat_minor": 2
}
