{
 "cells": [
  {
   "cell_type": "markdown",
   "metadata": {},
   "source": [
    "## Probability and Counting\n",
    "\n",
    "1. If all possible outcomes are equal likely, then the probability  of an event A is \n",
    "\n",
    "$$\n",
    "P(A) = \\frac{\\text{number of outcomes where A occurs}}{\\text{number of possible outcomes}}\n",
    "$$\n",
    "\n",
    "\n",
    "* Ex: Rolling a dice\n"
   ]
  },
  {
   "cell_type": "markdown",
   "metadata": {},
   "source": [
    "### Exercise\n",
    "\n",
    "From a standard deck of 52 cards consisting of 13 cards of each unit, Suppose if you draw one cards\n",
    "1. what is the probability that the card is heart?\n",
    "2. what is the probability that the card is ace?\n",
    "3. what is the probability that the card is face card?"
   ]
  },
  {
   "cell_type": "markdown",
   "metadata": {},
   "source": [
    "## Factorial\n",
    "How many ways can you arrange 52 cards?"
   ]
  },
  {
   "cell_type": "markdown",
   "metadata": {},
   "source": [
    "## Box Models and Combinations\n",
    "\n",
    "In a box model, there are T tickets, and we can draw n tickets from the box.\n",
    "\n",
    "1. Drawing without replacement\n",
    "$$\n",
    "N * (N-1) * (N-2) * ..... (N-n+1) = \\frac{N!}{(N-n)!}\n",
    "$$\n",
    "2. Drawing with replacement.\n",
    "$$\n",
    "N * N * N....N = N^n\n",
    "$$"
   ]
  },
  {
   "cell_type": "markdown",
   "metadata": {},
   "source": [
    "### Exercise\n",
    "1. How many different 8-letter words can be formed by rearranging the letters 'LALALAAA'?\n",
    "2. Toss a coin 60 times. What is the probability that you get exactly 30 heads?\n",
    "\n"
   ]
  },
  {
   "cell_type": "markdown",
   "metadata": {},
   "source": [
    "## Sampling with Replacement\n",
    "\n",
    "1. Compute whether a sum of 9 or a sum of 10 was more likely when 3 dice are rolled\n",
    "\n",
    "$$\n",
    "Sum of 9:  (3+3+3) -> 1, (2+3+4) ->6, (2+2+5)->3, (1+4+4)>3, (1+3+5)->6, (1+2+6)->6\n",
    "$$\n",
    "\n",
    "$$\n",
    "Sum of 10: (3+3+4) -> 3, (2+4+4)->3, (2+3+5) -> 6, (2+2+6) -> 3, (1+4+5) ->6, (1+3+6) ->6\n",
    "$$\n",
    "\n"
   ]
  },
  {
   "cell_type": "markdown",
   "metadata": {},
   "source": [
    "DICE 1 -> 6\n",
    "DICE 2 -> ANY THING\n",
    "P(DICE 1->6)     --> 6/36\n",
    "\n",
    "DICE 1 -> ANY THING\n",
    "DICE 2 -> 6\n",
    "P(DICE 2 ->6)    --> 6/36\n",
    "\n",
    "DICE 1 -> 6\n",
    "DICE 2 -> 6\n",
    "P(DICE 1 -> 6 AND DICE 2 -> 6) -- 1/36\n",
    "\n",
    "P(DICE 1 -> 6 OR DICE 2 -> 6) = P(DICE 1->6) + P(DICE 2 ->6)  - P(DICE 1 -> 6 AND DICE 2 -> 6)\n",
    "\n",
    "P( A OR B) = P(A) + P(B) - P(A AND B)\n",
    "\n",
    "\n",
    "\n",
    "\n",
    "SAMPLE SET -> 36\n",
    "\n",
    "(6+6-1)/36\n",
    "\n",
    "\n",
    "\n",
    "P(4 OR 5) = P(4) + P(5) - P(4 AND 5)\n",
    "\n",
    "1/6 + 1/6 - 0 \n",
    "2/6\n",
    "\n"
   ]
  },
  {
   "cell_type": "markdown",
   "metadata": {},
   "source": [
    "## Double Counting\n",
    "\n",
    "1. what is the probability of getting at least one six in 4 rolls of a two dice.<br><br>\n",
    "$$\n",
    "P(A \\cap B) = P(A) + P(B) - P(A \\cup B)\n",
    "$$\n",
    "![Double Count](double_counts.png)"
   ]
  },
  {
   "cell_type": "markdown",
   "metadata": {},
   "source": [
    "## Conditional Probability\n",
    "\n",
    "To quantify how probabilities change in light of new information, we calculate the conditional probability.<br>\n",
    "The | symbol is read “given” and the event after the | symbol represents information that we know.\n",
    "\n",
    "$$\n",
    "P(A | B) = \\frac{P(A \\cap B)}{P(B)}\n",
    "$$"
   ]
  },
  {
   "cell_type": "markdown",
   "metadata": {},
   "source": [
    "## Independence\n",
    "\n",
    "1. One card is dealt off the top of a well-shuffled deck of cards. Is the event that the card is a heart independent of the event that the card is an ace?\n",
    "2. Two cards are dealt off the top of a well-shuffled deck of cards. Is the event that the first card is a heart independent of the event that the second card is a heart?\n",
    "3. In the dice game Yahtzee, five dice are rolled. The outcomes of the five dice are independent. What is the probability of rolling a “Yahtzee” (i.e., when all five dice show the same number)?"
   ]
  },
  {
   "cell_type": "markdown",
   "metadata": {},
   "source": [
    "P(A) = P(A AND B) + P(A AND NOT B)\n",
    "\n",
    "\n",
    "DRAWING A CARD \n",
    "\n",
    "\n",
    "P(CARD = KING) -> 4/52\n",
    "\n",
    "P(CARD = KING AND CARD = HEART) +P(CARD = KING AND CARD = CLUBS) \n",
    "+ P(CARD = KING AND CARD = DIAMOND) + P(CARD = KING AND CARD = SPADE) \n",
    "\n",
    "\n",
    "\n",
    "P(CARD = HEART AND CARD = RED) + P(CARD = HEART AND CARD = BLACK)\n",
    "\n"
   ]
  },
  {
   "cell_type": "markdown",
   "metadata": {},
   "source": [
    "## Law of Total Probability\n",
    "\n",
    "You watch a magician place 4 ordinary coins and 1 double-headed coin into a box. If you select a coin from the box at random and toss it, what is the probability that it lands heads?\n",
    "\n",
    "$$\n",
    "P(head | ordinary) = ?\n",
    "$$\n",
    "\n",
    "$$\n",
    "P(head | Double headed) = ?\n",
    "$$\n",
    "\n",
    "$$\n",
    "P(A) = \\sum_{i=1}^{n} P(A | B_i) \\cdot P(B_i)\n",
    "$$"
   ]
  },
  {
   "cell_type": "markdown",
   "metadata": {},
   "source": [
    "### Exercise \n",
    "1. Anny is a fan of chess competitor Hikaru Nakamura, and tomorrow is the World Chess Championship. She is superstitious and believes that the weather influences how he will perform. Hikaru has a 60% chance of winning if it rains, a 25% chance if it is cloudy, and a 10% chance if it is sunny. Anny checks the weather the night before, and the forecast says that the chance of rain tomorrow is 40%; otherwise, it is equally likely to be cloudy as sunny. What is the probability that Hikaru wins the World Chess Championship?\n",
    "\n",
    "2. Here are some things we already know about a deck of cards:\n",
    "    1. The top card in a shuffled deck of cards has a 13/52 chance of being a diamond.\n",
    "    2. If the top card is a diamond, then the second card has a 12/51 chance of being a diamond.\n",
    "    3. If the top card is not a diamond, then the second card has a 13/51 chance of being a diamond.<br>\n",
    "    \n",
    "    Now, suppose we “burn” (i.e., discard) the top card without looking at it. What is the probability that the second card is a diamond? Use the Law of Total Probability, conditioning on the top card. Does burning cards affect probabilities?"
   ]
  },
  {
   "cell_type": "markdown",
   "metadata": {},
   "source": [
    "## Bayes' Theorem\n",
    "$$\n",
    "P(A|B)=\\frac{P(A)P(B|A)}{P(B)}\n",
    "$$\n",
    "\n",
    "<img src=\"bayes.png\" width=\"500\" height=\"500\">\n"
   ]
  },
  {
   "cell_type": "markdown",
   "metadata": {},
   "source": [
    "### Exercise\n",
    "1. The rare mineral unobtanium is present in only 1% of rocks in a mine. You have an unobtanium detector, which never fails to detect unobtanium when it is present. Otherwise, it is still reliable, returning accurate readings 90% of the time when unobtanium is not present.\n",
    "\n",
    "    1. What is  P(unobtanium detected|unobtanium present)?\n",
    "    2. What is  P(unobtanium present|unobtanium detected)?\n",
    "2. One application where Bayes’ Theorem has been extremely successful is spam filtering. From historical data, 80% of all e-mail is spam, and the phrase “free money” is used in 10% of spam e-mails. That is, P(\"free money\"|spam)=0.1. The phrase is also used in 1% of non-spam e-mails. A new e-mail has just arrived which contains the phrase “free money”. Given this information, what is the probability that it is spam, P(spam|\"free money\")\n",
    "3. A certain disease afflicts 10% of the population. A test for the disease is 90% accurate for patients with the disease and 80% accurate for patients without the disease. Suppose you test positive for the disease. What is the probability that you actually have the disease?"
   ]
  },
  {
   "cell_type": "markdown",
   "metadata": {},
   "source": [
    "## Random Variables"
   ]
  },
  {
   "cell_type": "markdown",
   "metadata": {},
   "source": [
    "## Cumulative Distribution Functions"
   ]
  },
  {
   "cell_type": "markdown",
   "metadata": {},
   "source": [
    "## Hyper Geometric Distribution"
   ]
  },
  {
   "cell_type": "markdown",
   "metadata": {},
   "source": [
    "## Binomial Distribution"
   ]
  },
  {
   "cell_type": "markdown",
   "metadata": {},
   "source": [
    "## Geometric Distribution"
   ]
  },
  {
   "cell_type": "markdown",
   "metadata": {},
   "source": [
    "## Negative Binomial Distribution"
   ]
  },
  {
   "cell_type": "markdown",
   "metadata": {},
   "source": [
    "## Poisson distribution"
   ]
  },
  {
   "cell_type": "markdown",
   "metadata": {},
   "source": [
    "## Joint Distribution"
   ]
  },
  {
   "cell_type": "markdown",
   "metadata": {},
   "source": [
    "## Marginal Distribution"
   ]
  },
  {
   "cell_type": "markdown",
   "metadata": {},
   "source": [
    "## Conditional Distribution"
   ]
  },
  {
   "cell_type": "markdown",
   "metadata": {},
   "source": [
    "## Sums of Random Variables"
   ]
  },
  {
   "cell_type": "markdown",
   "metadata": {},
   "source": [
    "## Expected Values"
   ]
  },
  {
   "cell_type": "markdown",
   "metadata": {},
   "source": [
    "## Random Walk"
   ]
  }
 ],
 "metadata": {
  "kernelspec": {
   "display_name": "env_tf",
   "language": "python",
   "name": "python3"
  },
  "language_info": {
   "codemirror_mode": {
    "name": "ipython",
    "version": 3
   },
   "file_extension": ".py",
   "mimetype": "text/x-python",
   "name": "python",
   "nbconvert_exporter": "python",
   "pygments_lexer": "ipython3",
   "version": "3.9.9"
  }
 },
 "nbformat": 4,
 "nbformat_minor": 2
}
