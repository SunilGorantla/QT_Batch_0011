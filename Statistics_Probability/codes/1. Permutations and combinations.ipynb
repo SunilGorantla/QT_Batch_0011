{
 "cells": [
  {
   "cell_type": "markdown",
   "metadata": {},
   "source": [
    "## Factorial\n",
    "$$n! = 𝑛 * (𝑛 − 1) * (𝑛 − 2) * ⋯ * 1$$"
   ]
  },
  {
   "cell_type": "markdown",
   "metadata": {},
   "source": [
    "## Permutations\n",
    "Permutations represent the number of different possible ways we can arrange a number of elements.\n",
    "$$𝑃(𝑛) = 𝑛 * (𝑛 − 1) * (𝑛 − 2) * ⋯ * 1$$"
   ]
  },
  {
   "cell_type": "markdown",
   "metadata": {},
   "source": [
    "## Variations\n",
    "Variations represent the number of different possible ways we can pick and arrange a number of elements.\n",
    "\n",
    "* With Repetition \n",
    "$$𝑉(𝑛, 𝑝) = 𝑛^𝑝 $$\n",
    "* Without Repetition \n",
    "$$𝑉(𝑛, 𝑝) = \\frac{n!}{(n-p)!}$$\n"
   ]
  },
  {
   "cell_type": "markdown",
   "metadata": {},
   "source": [
    "## Combinations\n",
    "Combinations represent the number of different possible ways we can pick a number of elements.\n",
    "$$ 𝐶(𝑛, 𝑝) = \\frac{𝑛!}{(𝑛 − 𝑝)!*𝑝!}"
   ]
  },
  {
   "cell_type": "markdown",
   "metadata": {},
   "source": [
    "## Combinations With Repetition\n",
    "Combinations represent the number of different possible ways we can pick a number of elements. In special\n",
    "cases we can have repetition in combinations and for those we use a different formula.\n",
    "\n",
    "$$ 𝐶 (𝑛, 𝑝) = \\frac{(𝑛 + 𝑝 − 1)!}{(𝑛 − 1)!*𝑝!}"
   ]
  },
  {
   "cell_type": "markdown",
   "metadata": {},
   "source": [
    "## Box Models and Combinations\n",
    "\n",
    "In a box model, there are T tickets, and we can draw n tickets from the box.\n",
    "\n",
    "1. Drawing without replacement\n",
    "$$\n",
    "N * (N-1) * (N-2) * ..... (N-n+1) = \\frac{N!}{(N-n)!}\n",
    "$$\n",
    "2. Drawing with replacement.\n",
    "$$\n",
    "N * N * N....N = N^n\n",
    "$$"
   ]
  },
  {
   "cell_type": "markdown",
   "metadata": {},
   "source": [
    "### Exercise\n",
    "1. How many different 8-letter words can be formed by rearranging the letters 'LALALAAA'?\n",
    "2. Toss a coin 60 times. What is the probability that you get exactly 30 heads?\n",
    "\n"
   ]
  },
  {
   "cell_type": "markdown",
   "metadata": {},
   "source": [
    "## Sampling with Replacement\n",
    "\n",
    "1. Compute whether a sum of 9 or a sum of 10 was more likely when 3 dice are rolled\n",
    "\n",
    "$$\n",
    "Sum of 9:  (3+3+3) -> 1, (2+3+4) ->6, (2+2+5)->3, (1+4+4)>3, (1+3+5)->6, (1+2+6)->6\n",
    "$$\n",
    "\n",
    "$$\n",
    "Sum of 10: (3+3+4) -> 3, (2+4+4)->3, (2+3+5) -> 6, (2+2+6) -> 3, (1+4+5) ->6, (1+3+6) ->6\n",
    "$$\n",
    "\n"
   ]
  },
  {
   "cell_type": "markdown",
   "metadata": {},
   "source": [
    "## Double Counting\n",
    "\n",
    "1. what is the probability of getting at least one six in 4 rolls of a two dice.<br><br>\n",
    "$$\n",
    "P(A \\cap B) = P(A) + P(B) - P(A \\cup B)\n",
    "$$\n",
    "![Double Count](double_counts.png)"
   ]
  },
  {
   "cell_type": "markdown",
   "metadata": {},
   "source": []
  },
  {
   "cell_type": "markdown",
   "metadata": {},
   "source": [
    "## Independence\n",
    "\n",
    "1. One card is dealt off the top of a well-shuffled deck of cards. Is the event that the card is a heart independent of the event that the card is an ace?\n",
    "2. Two cards are dealt off the top of a well-shuffled deck of cards. Is the event that the first card is a heart independent of the event that the second card is a heart?\n",
    "3. In the dice game Yahtzee, five dice are rolled. The outcomes of the five dice are independent. What is the probability of rolling a “Yahtzee” (i.e., when all five dice show the same number)?"
   ]
  },
  {
   "cell_type": "markdown",
   "metadata": {},
   "source": [
    "### Exercise\n",
    "1. The rare mineral unobtanium is present in only 1% of rocks in a mine. You have an unobtanium detector, which never fails to detect unobtanium when it is present. Otherwise, it is still reliable, returning accurate readings 90% of the time when unobtanium is not present.\n",
    "\n",
    "    1. What is  P(unobtanium detected|unobtanium present)?\n",
    "    2. What is  P(unobtanium present|unobtanium detected)?\n",
    "2. One application where Bayes’ Theorem has been extremely successful is spam filtering. From historical data, 80% of all e-mail is spam, and the phrase “free money” is used in 10% of spam e-mails. That is, P(\"free money\"|spam)=0.1. The phrase is also used in 1% of non-spam e-mails. A new e-mail has just arrived which contains the phrase “free money”. Given this information, what is the probability that it is spam, P(spam|\"free money\")\n",
    "3. A certain disease afflicts 10% of the population. A test for the disease is 90% accurate for patients with the disease and 80% accurate for patients without the disease. Suppose you test positive for the disease. What is the probability that you actually have the disease?"
   ]
  },
  {
   "cell_type": "markdown",
   "metadata": {},
   "source": [
    "## Cumulative Distribution Functions\n",
    "\n",
    "The cumulative distribution function (c.d.f.) is a function that returns the probability that a random variable is less than or equal to a particular value:\n",
    "$$\n",
    "f(x) = P(X≤x)\n",
    "$$\n",
    " \n",
    "It is called “cumulative” because it includes all the probability up to (and including) x.\n",
    "\n",
    "<img src=\"cdf.jpeg\" width=\"500\" height=\"250\">\n"
   ]
  },
  {
   "cell_type": "markdown",
   "metadata": {},
   "source": [
    "## Random Variables\n",
    "\n",
    "We describe random variables by the probabilities of their possible values. This is summarized by a function called the probability mass function.\n",
    "\n",
    "<img src=\"pdf.png\" width=\"500\" height=\"250\">"
   ]
  },
  {
   "cell_type": "markdown",
   "metadata": {},
   "source": [
    "## Binomial Distribution\n",
    "\n",
    "If a random variable can be described as the number of  1s in n random draws, with replacement, from the box.\n",
    "\n",
    "$$\n",
    "f(x) = ??\n",
    "$$"
   ]
  },
  {
   "cell_type": "markdown",
   "metadata": {},
   "source": [
    "## Hyper Geometric Distribution\n",
    "If a random variable can be described as the number of 1s in n random draws, without replacement, from the box.\n",
    "\n",
    "$$\n",
    "f(x) = ??\n",
    "$$"
   ]
  },
  {
   "cell_type": "markdown",
   "metadata": {},
   "source": [
    "## Geometric Distribution\n",
    "\n",
    "If a random variable can be described as the number of draws, with replacement, from the box\n",
    "N until a 1 is drawn, then its p.m.f. is given by"
   ]
  },
  {
   "cell_type": "markdown",
   "metadata": {},
   "source": [
    "## Negative Binomial Distribution\n",
    "\n",
    "If a random variable can be described as the number of draws, with replacement, from the box\n",
    "N until r 1s have been drawn."
   ]
  },
  {
   "cell_type": "markdown",
   "metadata": {},
   "source": [
    "## Poisson distribution\n",
    "\n",
    "The Poisson distribution is a discrete probability distribution that expresses the probability of a given number of events occurring in a fixed interval of time or space. These events must happen with a known constant mean rate and independently of the time since the last event."
   ]
  },
  {
   "cell_type": "markdown",
   "metadata": {},
   "source": [
    "## Joint Distribution"
   ]
  },
  {
   "cell_type": "markdown",
   "metadata": {},
   "source": [
    "## Marginal Distribution"
   ]
  },
  {
   "cell_type": "markdown",
   "metadata": {},
   "source": [
    "## Conditional Distribution"
   ]
  },
  {
   "cell_type": "markdown",
   "metadata": {},
   "source": [
    "## Sums of Random Variables"
   ]
  },
  {
   "cell_type": "markdown",
   "metadata": {},
   "source": [
    "## Expected Values"
   ]
  },
  {
   "cell_type": "markdown",
   "metadata": {},
   "source": [
    "## Random Walk"
   ]
  }
 ],
 "metadata": {
  "kernelspec": {
   "display_name": "env_tf",
   "language": "python",
   "name": "python3"
  },
  "language_info": {
   "codemirror_mode": {
    "name": "ipython",
    "version": 3
   },
   "file_extension": ".py",
   "mimetype": "text/x-python",
   "name": "python",
   "nbconvert_exporter": "python",
   "pygments_lexer": "ipython3",
   "version": "3.9.9"
  }
 },
 "nbformat": 4,
 "nbformat_minor": 2
}
