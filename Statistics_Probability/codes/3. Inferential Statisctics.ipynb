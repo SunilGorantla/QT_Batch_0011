{
 "cells": [
  {
   "cell_type": "markdown",
   "metadata": {},
   "source": [
    "## Inferential statistics\n",
    "\n",
    "## Introduction to Inference\n",
    "\n",
    "* Sample Mean & Population Mean\n",
    "* Statistical Inference\n",
    "* Central Limit Theorem\n",
    "* Confidence Intervals\n",
    "* Interpretation Of Confidence Interval\n",
    "* Hypothesis Testing\n",
    "* Why Null Hypothesis ?\n",
    "* Alternate Hypothesis\n",
    "* P-Value\n",
    "* t-test\n",
    "* Type I and Type II error\n",
    "* Chi-squared Goodness of fit test\n",
    "* Chi-sqaured Test of Independence\n",
    "\n",
    "<img src=\"Images/statistics.jpeg\" width=\"700\" height=\"400\">"
   ]
  },
  {
   "cell_type": "code",
   "execution_count": 2,
   "metadata": {},
   "outputs": [],
   "source": [
    "import pandas as pd\n",
    "import numpy as np\n",
    "import matplotlib.pyplot as plt\n",
    "import seaborn as sns"
   ]
  },
  {
   "cell_type": "code",
   "execution_count": 47,
   "metadata": {},
   "outputs": [],
   "source": [
    "data = pd.read_csv('data/insurance.csv')\n",
    "data.head()\n",
    "\n",
    "# Ramdom sample for population\n",
    "indecies = np.random.randint(0,100, 100)\n",
    "sample = data.iloc[indecies]"
   ]
  },
  {
   "cell_type": "markdown",
   "metadata": {},
   "source": [
    "### Sample Mean and population Mean\n",
    "\n",
    "* Let's consider a sample of 100 people at random from 1338 people\n",
    "* Compute the mean, median, mode, standard deviation of sample and compare them with the total population"
   ]
  },
  {
   "cell_type": "markdown",
   "metadata": {},
   "source": [
    "## Central Limit Theorem\n",
    "\n",
    "The central limit theorem (CLT) is a statistical theory that states that given a sufficiently large sample size from a population with a finite level of variance, the mean of all samples from the same population will be approximately equal to the mean of the population. Furthermore, all of the samples will follow an approximate normal distribution pattern, with all variances being approximately equal to the variance of the population divided by each sample's size."
   ]
  },
  {
   "cell_type": "code",
   "execution_count": 7,
   "metadata": {},
   "outputs": [],
   "source": [
    "# Pick 100 different samples from the same population.\n",
    "# Each sample will be approximately 100 different people.\n",
    "# Compute the mean BMI and Charges of each sample.\n",
    "# Try to plot a Histogram for the 100 mean values of BMI and Charges."
   ]
  },
  {
   "cell_type": "markdown",
   "metadata": {},
   "source": [
    "## Confidence Interval\n",
    "\n",
    "**Confidence Interval (CI)** is a type of estimate computed from the statistics of the observed data. This proposes a range of plausible values for an unknown parameter (for example, the mean). The interval has an associated confidence level that the true parameter is in the proposed range.\n"
   ]
  },
  {
   "cell_type": "markdown",
   "metadata": {},
   "source": []
  },
  {
   "cell_type": "code",
   "execution_count": 48,
   "metadata": {},
   "outputs": [
    {
     "name": "stdout",
     "output_type": "stream",
     "text": [
      "Confidence interval: (29.48620886568075, 31.411991134319244)\n",
      "True mean: 30.66339686098655\n"
     ]
    }
   ],
   "source": [
    "# lets import the scipy package\n",
    "import scipy.stats as stats\n",
    "import math\n",
    "\n",
    "\n",
    "# Get the z value*\n",
    "z_value = stats.norm.ppf(q = 0.95) \n",
    "\n",
    "# Pick a sample of 100 people\n",
    "sample_size = 100\n",
    "sample = np.random.choice(a= data['bmi'],\n",
    "                          size = sample_size)\n",
    "\n",
    "sample_mean = sample.mean()\n",
    "sample_std = sample.std()\n",
    "\n",
    "\n",
    "margin_of_error = z_value * (sample_std/math.sqrt(sample_size)) \n",
    "\n",
    "# defining our confidence interval\n",
    "confidence_interval = (sample_mean - margin_of_error,\n",
    "                       sample_mean + margin_of_error) \n",
    "\n",
    "# lets print the results\n",
    "print(\"Confidence interval:\",end=\" \")\n",
    "print(confidence_interval)\n",
    "print(\"True mean: {}\".format(data['bmi'].mean()))"
   ]
  },
  {
   "cell_type": "markdown",
   "metadata": {},
   "source": [
    "population_mean = sample_mean +- z*sample_std/sqrt(sample_size)\n",
    "\n",
    "\n",
    "z = +- (Population_mean - Sample_mean)*sqrt(sample_size)/sample_std_dev\n",
    "\n",
    "sample_mean = 110\n",
    "sample_std_dev = 5\n",
    "sample_size = 50\n",
    "\n",
    "Assume population mean >= 100\n",
    "\n",
    "z = +- 14.14\n",
    "\n",
    "Rejection zone = 5%\n",
    "\n",
    "z_upperbound = 95% --> 1.96\n",
    "z_loowerbound = 5% --> -1.96\n",
    "\n",
    "z >= 14.14 --> 99.9999999% (area under the curve)\n",
    "z <= -14.14 --> 4.9999999% (area under the curve)"
   ]
  },
  {
   "cell_type": "code",
   "execution_count": 14,
   "metadata": {},
   "outputs": [],
   "source": [
    "# Change the sample sizes to [10, 50, 100, 500, 1000]. Observe the changes w.r.t confidence interval.\n",
    "\n",
    "\n",
    "# Change the confidence percentage value to [50%, 70%, 80%, 90%, 95%, 99%, 99.6%, 100%]. \n",
    "# Observe the changes w.r.t confidence interval.\n",
    "\n",
    "\n",
    "# Write a 5 line summary of your analysis on how the confidence interval changed w.r.t sample sizes and confidence percentages.\n",
    "# Also, mention if samples are good or bad.\n",
    "\n",
    "# Explore what T-statistic is and explain where we should use T-values and Z-value respectively.\n"
   ]
  },
  {
   "cell_type": "markdown",
   "metadata": {},
   "source": [
    "## Hypothesis Testing"
   ]
  },
  {
   "cell_type": "markdown",
   "metadata": {},
   "source": [
    "* $Statistical Hypothesis$, sometimes called confirmatory data analysis, is a hypothesis that is testable on the basis of observing a process that is modeled via a set of random variables. A statistical hypothesis test is a method of statistical inference.\n",
    "\n",
    "### Null Hypothesis\n",
    "\n",
    "* In Inferential Statistics, **The Null Hypothesis is a general statement or default position that there is no relationship between two measured phenomena or no association among groups.**\n",
    "\n",
    "* Statistical hypothesis tests are based on a statement called the null hypothesis that assumes nothing interesting is going on between whatever variables you are testing.\n",
    "\n",
    "* Therefore, in our case the Null Hypothesis would be:\n",
    "**The Mean of House Prices in OldTown is not different from the houses of other neighborhoods**\n",
    "\n",
    "### Alternate Hypothesis\n",
    "\n",
    "* The alternate hypothesis is just an alternative to the null. For example, if your null is **I'm going to win up to 1000** then your alternate is **I'm going to win more than 1000.** Basically, you're looking at whether there's enough change (with the alternate hypothesis) to be able to reject the null hypothesis\n",
    "\n",
    "###  The Null Hypothesis is assumed to be true and Statistical evidence is required to reject it in favor of an Alternative Hypothesis."
   ]
  },
  {
   "cell_type": "markdown",
   "metadata": {},
   "source": [
    "### P Value\n",
    "\n",
    "* In statistical hypothesis testing, **the p-value or probability value** is the probability of obtaining test results at least as extreme as the results actually observed during the test, assuming that the null hypothesis is correct. \n",
    "\n",
    "* So now say that we have put a significance (α) = 0.05\n",
    "* This means that if we see a p-value of lesser than 0.05, we reject our Null and accept the Alternative to be true\n"
   ]
  },
  {
   "cell_type": "code",
   "execution_count": 34,
   "metadata": {},
   "outputs": [
    {
     "name": "stdout",
     "output_type": "stream",
     "text": [
      "Z-statistic is :26.934097902356328\n",
      "P-value is :0.00000000000000000000000000000000000000000000000000\n",
      "We can safely reject the Null hypothesis\n"
     ]
    }
   ],
   "source": [
    "# lets import z test from statsmodels\n",
    "from statsmodels.stats.weightstats import ztest\n",
    "\n",
    "# Null hypothesis: Chargers of smokers and non-smokerts are same.\n",
    "z_statistic, p_value = ztest(x1 = data[data['smoker'] == 'yes']['charges'],\n",
    "                             value = data['charges'].mean())\n",
    "\n",
    "# lets print the Results\n",
    "print('Z-statistic is :{}'.format(z_statistic))\n",
    "print('P-value is :{:.50f}'.format(p_value))\n",
    "\n",
    "if p_value < 0.05:\n",
    "    print(\"We can safely reject the Null hypothesis\")\n",
    "else:\n",
    "    print(\"We do not have significant evidence to safely reject the null hypothesis.\")"
   ]
  },
  {
   "cell_type": "code",
   "execution_count": 35,
   "metadata": {},
   "outputs": [
    {
     "name": "stdout",
     "output_type": "stream",
     "text": [
      "Test statistic: -0.780398972571708\n",
      "p-value: 0.45519024115915063\n",
      "Fail to reject the null hypothesis.\n"
     ]
    }
   ],
   "source": [
    "import scipy.stats as stats\n",
    "\n",
    "# Create a dummy dataset of 10 year old children's weight\n",
    "data = np.random.randint(20, 40, 10)\n",
    "\n",
    "# Define the null hypothesis\n",
    "H0 = \"The average weight of 10 year old children is less than 32kg.\"\n",
    "\n",
    "# Define the alternative hypothesis\n",
    "H1 = \"The average weight of 10 year old children is more than 32kg.\"\n",
    "\n",
    "# Calculate the test statistic\n",
    "t_stat, p_value = stats.ttest_1samp(data, 32)\n",
    "\n",
    "# Print the results\n",
    "print(\"Test statistic:\", t_stat)\n",
    "print(\"p-value:\", p_value)\n",
    "\n",
    "# Conclusion\n",
    "if p_value < 0.05:\n",
    "    print(\"Reject the null hypothesis.\")\n",
    "else:\n",
    "    print(\"Fail to reject the null hypothesis.\")"
   ]
  }
 ],
 "metadata": {
  "kernelspec": {
   "display_name": "env_tf",
   "language": "python",
   "name": "python3"
  },
  "language_info": {
   "codemirror_mode": {
    "name": "ipython",
    "version": 3
   },
   "file_extension": ".py",
   "mimetype": "text/x-python",
   "name": "python",
   "nbconvert_exporter": "python",
   "pygments_lexer": "ipython3",
   "version": "3.9.9"
  }
 },
 "nbformat": 4,
 "nbformat_minor": 2
}
