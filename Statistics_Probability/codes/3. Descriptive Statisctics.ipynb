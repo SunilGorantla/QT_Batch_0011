{
 "cells": [
  {
   "cell_type": "markdown",
   "metadata": {},
   "source": [
    "## Descriptive statistics\n",
    "\n",
    "Descriptive Statistics, provides a summary of your dataset giving a measure of the centre, dispersion and shape of your data. Here the data is described as a sample of the whole population, and there are no inferences made from the sample to the whole population, unlike Inferential Statistics, in which we model the data on the basis of probability theory.\n",
    "\n",
    "## Key Elements of Descriptive Statistics\n",
    "\n",
    "### Measures Of Central Tendency\n",
    "\n",
    "* Mean\n",
    "* Median\n",
    "* Mode\n",
    "\n",
    "### Measures Of Spread\n",
    "\n",
    "* Range\n",
    "* Outliers\n",
    "* Interquantile Range\n",
    "* Variance\n",
    "\n",
    "### Dependence\n",
    "\n",
    "* Correlation v/s Causation\n",
    "* Covariance\n",
    "\n",
    "<img src=\"Images/statistics.jpeg\" width=\"700\" height=\"400\">"
   ]
  },
  {
   "cell_type": "markdown",
   "metadata": {},
   "source": [
    "## Descritive Statistics"
   ]
  },
  {
   "cell_type": "markdown",
   "metadata": {},
   "source": [
    "### Central tendency values\n",
    "The measure of central tendency refers to a single value that summarizes or describes a dataset. It indicates where most of the values within a distribution lie, which is why it is the central location of a distribution. This central tendency measure is a single number representing the entire population distribution. The most critical measures of location or central tendency are mean, median, and mode."
   ]
  },
  {
   "cell_type": "markdown",
   "metadata": {},
   "source": [
    "#### Mean\n",
    "Mean is defined by the formula: Summation of all observations in a dataset divided by Total number of observations in that dataset. In mathematics, it is also called Average.\n",
    "$$ Mean = \\frac{Sum~of~all~observations}{No~of~observations}$$"
   ]
  },
  {
   "cell_type": "markdown",
   "metadata": {},
   "source": [
    "##### Disadvantage of Mean\n",
    "\n",
    "* Finding mean is not a good approach as the 'Mean is often affected by Outliers' or in simple words if there are some observations larger or smaller than majority of the other observations then the mean tends to deviate towards these values.\n",
    "\n",
    "* To generalize it if the distribution of datasets is skewed(troubled by outliers), we do not choose mean. Here we will have to go for Median."
   ]
  },
  {
   "cell_type": "code",
   "execution_count": 1,
   "metadata": {},
   "outputs": [],
   "source": [
    "# Read and mathematical operations\n",
    "import pandas as pd\n",
    "import numpy as np\n",
    "\n",
    "# Visualization\n",
    "import matplotlib.pyplot as plt\n",
    "import seaborn as sns"
   ]
  },
  {
   "cell_type": "code",
   "execution_count": 3,
   "metadata": {},
   "outputs": [],
   "source": [
    "data = pd.read_csv('data/insurance.csv')"
   ]
  },
  {
   "cell_type": "code",
   "execution_count": 16,
   "metadata": {},
   "outputs": [
    {
     "data": {
      "text/plain": [
       "age           int64\n",
       "sex          object\n",
       "bmi         float64\n",
       "children      int64\n",
       "smoker       object\n",
       "region       object\n",
       "charges     float64\n",
       "dtype: object"
      ]
     },
     "execution_count": 16,
     "metadata": {},
     "output_type": "execute_result"
    }
   ],
   "source": [
    "# datatypes of columns\n",
    "data.dtypes"
   ]
  },
  {
   "cell_type": "code",
   "execution_count": 17,
   "metadata": {},
   "outputs": [
    {
     "data": {
      "text/html": [
       "<div>\n",
       "<style scoped>\n",
       "    .dataframe tbody tr th:only-of-type {\n",
       "        vertical-align: middle;\n",
       "    }\n",
       "\n",
       "    .dataframe tbody tr th {\n",
       "        vertical-align: top;\n",
       "    }\n",
       "\n",
       "    .dataframe thead th {\n",
       "        text-align: right;\n",
       "    }\n",
       "</style>\n",
       "<table border=\"1\" class=\"dataframe\">\n",
       "  <thead>\n",
       "    <tr style=\"text-align: right;\">\n",
       "      <th></th>\n",
       "      <th>age</th>\n",
       "      <th>sex</th>\n",
       "      <th>bmi</th>\n",
       "      <th>children</th>\n",
       "      <th>smoker</th>\n",
       "      <th>region</th>\n",
       "      <th>charges</th>\n",
       "    </tr>\n",
       "  </thead>\n",
       "  <tbody>\n",
       "    <tr>\n",
       "      <th>64</th>\n",
       "      <td>20</td>\n",
       "      <td>female</td>\n",
       "      <td>22.420</td>\n",
       "      <td>0</td>\n",
       "      <td>yes</td>\n",
       "      <td>northwest</td>\n",
       "      <td>14711.74380</td>\n",
       "    </tr>\n",
       "    <tr>\n",
       "      <th>105</th>\n",
       "      <td>20</td>\n",
       "      <td>male</td>\n",
       "      <td>28.025</td>\n",
       "      <td>1</td>\n",
       "      <td>yes</td>\n",
       "      <td>northwest</td>\n",
       "      <td>17560.37975</td>\n",
       "    </tr>\n",
       "    <tr>\n",
       "      <th>122</th>\n",
       "      <td>20</td>\n",
       "      <td>female</td>\n",
       "      <td>28.975</td>\n",
       "      <td>0</td>\n",
       "      <td>no</td>\n",
       "      <td>northwest</td>\n",
       "      <td>2257.47525</td>\n",
       "    </tr>\n",
       "    <tr>\n",
       "      <th>134</th>\n",
       "      <td>20</td>\n",
       "      <td>female</td>\n",
       "      <td>28.785</td>\n",
       "      <td>0</td>\n",
       "      <td>no</td>\n",
       "      <td>northeast</td>\n",
       "      <td>2457.21115</td>\n",
       "    </tr>\n",
       "    <tr>\n",
       "      <th>166</th>\n",
       "      <td>20</td>\n",
       "      <td>female</td>\n",
       "      <td>37.000</td>\n",
       "      <td>5</td>\n",
       "      <td>no</td>\n",
       "      <td>southwest</td>\n",
       "      <td>4830.63000</td>\n",
       "    </tr>\n",
       "    <tr>\n",
       "      <th>210</th>\n",
       "      <td>20</td>\n",
       "      <td>male</td>\n",
       "      <td>33.000</td>\n",
       "      <td>1</td>\n",
       "      <td>no</td>\n",
       "      <td>southwest</td>\n",
       "      <td>1980.07000</td>\n",
       "    </tr>\n",
       "    <tr>\n",
       "      <th>261</th>\n",
       "      <td>20</td>\n",
       "      <td>female</td>\n",
       "      <td>26.840</td>\n",
       "      <td>1</td>\n",
       "      <td>yes</td>\n",
       "      <td>southeast</td>\n",
       "      <td>17085.26760</td>\n",
       "    </tr>\n",
       "    <tr>\n",
       "      <th>374</th>\n",
       "      <td>20</td>\n",
       "      <td>male</td>\n",
       "      <td>33.330</td>\n",
       "      <td>0</td>\n",
       "      <td>no</td>\n",
       "      <td>southeast</td>\n",
       "      <td>1391.52870</td>\n",
       "    </tr>\n",
       "    <tr>\n",
       "      <th>453</th>\n",
       "      <td>20</td>\n",
       "      <td>male</td>\n",
       "      <td>29.735</td>\n",
       "      <td>0</td>\n",
       "      <td>no</td>\n",
       "      <td>northwest</td>\n",
       "      <td>1769.53165</td>\n",
       "    </tr>\n",
       "    <tr>\n",
       "      <th>495</th>\n",
       "      <td>20</td>\n",
       "      <td>male</td>\n",
       "      <td>27.930</td>\n",
       "      <td>0</td>\n",
       "      <td>no</td>\n",
       "      <td>northeast</td>\n",
       "      <td>1967.02270</td>\n",
       "    </tr>\n",
       "    <tr>\n",
       "      <th>516</th>\n",
       "      <td>20</td>\n",
       "      <td>male</td>\n",
       "      <td>35.310</td>\n",
       "      <td>1</td>\n",
       "      <td>no</td>\n",
       "      <td>southeast</td>\n",
       "      <td>27724.28875</td>\n",
       "    </tr>\n",
       "    <tr>\n",
       "      <th>541</th>\n",
       "      <td>20</td>\n",
       "      <td>female</td>\n",
       "      <td>31.790</td>\n",
       "      <td>2</td>\n",
       "      <td>no</td>\n",
       "      <td>southeast</td>\n",
       "      <td>3056.38810</td>\n",
       "    </tr>\n",
       "    <tr>\n",
       "      <th>592</th>\n",
       "      <td>20</td>\n",
       "      <td>male</td>\n",
       "      <td>31.130</td>\n",
       "      <td>2</td>\n",
       "      <td>no</td>\n",
       "      <td>southeast</td>\n",
       "      <td>2566.47070</td>\n",
       "    </tr>\n",
       "    <tr>\n",
       "      <th>614</th>\n",
       "      <td>20</td>\n",
       "      <td>female</td>\n",
       "      <td>33.000</td>\n",
       "      <td>0</td>\n",
       "      <td>no</td>\n",
       "      <td>southeast</td>\n",
       "      <td>1880.07000</td>\n",
       "    </tr>\n",
       "    <tr>\n",
       "      <th>692</th>\n",
       "      <td>20</td>\n",
       "      <td>male</td>\n",
       "      <td>32.395</td>\n",
       "      <td>1</td>\n",
       "      <td>no</td>\n",
       "      <td>northwest</td>\n",
       "      <td>2362.22905</td>\n",
       "    </tr>\n",
       "    <tr>\n",
       "      <th>713</th>\n",
       "      <td>20</td>\n",
       "      <td>male</td>\n",
       "      <td>40.470</td>\n",
       "      <td>0</td>\n",
       "      <td>no</td>\n",
       "      <td>northeast</td>\n",
       "      <td>1984.45330</td>\n",
       "    </tr>\n",
       "    <tr>\n",
       "      <th>815</th>\n",
       "      <td>20</td>\n",
       "      <td>female</td>\n",
       "      <td>31.460</td>\n",
       "      <td>0</td>\n",
       "      <td>no</td>\n",
       "      <td>southeast</td>\n",
       "      <td>1877.92940</td>\n",
       "    </tr>\n",
       "    <tr>\n",
       "      <th>855</th>\n",
       "      <td>20</td>\n",
       "      <td>female</td>\n",
       "      <td>29.600</td>\n",
       "      <td>0</td>\n",
       "      <td>no</td>\n",
       "      <td>southwest</td>\n",
       "      <td>1875.34400</td>\n",
       "    </tr>\n",
       "    <tr>\n",
       "      <th>984</th>\n",
       "      <td>20</td>\n",
       "      <td>male</td>\n",
       "      <td>30.115</td>\n",
       "      <td>5</td>\n",
       "      <td>no</td>\n",
       "      <td>northeast</td>\n",
       "      <td>4915.05985</td>\n",
       "    </tr>\n",
       "    <tr>\n",
       "      <th>1042</th>\n",
       "      <td>20</td>\n",
       "      <td>male</td>\n",
       "      <td>30.685</td>\n",
       "      <td>0</td>\n",
       "      <td>yes</td>\n",
       "      <td>northeast</td>\n",
       "      <td>33475.81715</td>\n",
       "    </tr>\n",
       "    <tr>\n",
       "      <th>1147</th>\n",
       "      <td>20</td>\n",
       "      <td>female</td>\n",
       "      <td>31.920</td>\n",
       "      <td>0</td>\n",
       "      <td>no</td>\n",
       "      <td>northwest</td>\n",
       "      <td>2261.56880</td>\n",
       "    </tr>\n",
       "    <tr>\n",
       "      <th>1158</th>\n",
       "      <td>20</td>\n",
       "      <td>female</td>\n",
       "      <td>30.590</td>\n",
       "      <td>0</td>\n",
       "      <td>no</td>\n",
       "      <td>northeast</td>\n",
       "      <td>2459.72010</td>\n",
       "    </tr>\n",
       "    <tr>\n",
       "      <th>1186</th>\n",
       "      <td>20</td>\n",
       "      <td>male</td>\n",
       "      <td>35.625</td>\n",
       "      <td>3</td>\n",
       "      <td>yes</td>\n",
       "      <td>northwest</td>\n",
       "      <td>37465.34375</td>\n",
       "    </tr>\n",
       "    <tr>\n",
       "      <th>1223</th>\n",
       "      <td>20</td>\n",
       "      <td>female</td>\n",
       "      <td>24.420</td>\n",
       "      <td>0</td>\n",
       "      <td>yes</td>\n",
       "      <td>southeast</td>\n",
       "      <td>26125.67477</td>\n",
       "    </tr>\n",
       "    <tr>\n",
       "      <th>1231</th>\n",
       "      <td>20</td>\n",
       "      <td>female</td>\n",
       "      <td>21.800</td>\n",
       "      <td>0</td>\n",
       "      <td>yes</td>\n",
       "      <td>southwest</td>\n",
       "      <td>20167.33603</td>\n",
       "    </tr>\n",
       "    <tr>\n",
       "      <th>1252</th>\n",
       "      <td>20</td>\n",
       "      <td>male</td>\n",
       "      <td>27.300</td>\n",
       "      <td>0</td>\n",
       "      <td>yes</td>\n",
       "      <td>southwest</td>\n",
       "      <td>16232.84700</td>\n",
       "    </tr>\n",
       "    <tr>\n",
       "      <th>1268</th>\n",
       "      <td>20</td>\n",
       "      <td>female</td>\n",
       "      <td>33.300</td>\n",
       "      <td>0</td>\n",
       "      <td>no</td>\n",
       "      <td>southwest</td>\n",
       "      <td>1880.48700</td>\n",
       "    </tr>\n",
       "    <tr>\n",
       "      <th>1288</th>\n",
       "      <td>20</td>\n",
       "      <td>male</td>\n",
       "      <td>39.400</td>\n",
       "      <td>2</td>\n",
       "      <td>yes</td>\n",
       "      <td>southwest</td>\n",
       "      <td>38344.56600</td>\n",
       "    </tr>\n",
       "    <tr>\n",
       "      <th>1295</th>\n",
       "      <td>20</td>\n",
       "      <td>male</td>\n",
       "      <td>22.000</td>\n",
       "      <td>1</td>\n",
       "      <td>no</td>\n",
       "      <td>southwest</td>\n",
       "      <td>1964.78000</td>\n",
       "    </tr>\n",
       "  </tbody>\n",
       "</table>\n",
       "</div>"
      ],
      "text/plain": [
       "      age     sex     bmi  children smoker     region      charges\n",
       "64     20  female  22.420         0    yes  northwest  14711.74380\n",
       "105    20    male  28.025         1    yes  northwest  17560.37975\n",
       "122    20  female  28.975         0     no  northwest   2257.47525\n",
       "134    20  female  28.785         0     no  northeast   2457.21115\n",
       "166    20  female  37.000         5     no  southwest   4830.63000\n",
       "210    20    male  33.000         1     no  southwest   1980.07000\n",
       "261    20  female  26.840         1    yes  southeast  17085.26760\n",
       "374    20    male  33.330         0     no  southeast   1391.52870\n",
       "453    20    male  29.735         0     no  northwest   1769.53165\n",
       "495    20    male  27.930         0     no  northeast   1967.02270\n",
       "516    20    male  35.310         1     no  southeast  27724.28875\n",
       "541    20  female  31.790         2     no  southeast   3056.38810\n",
       "592    20    male  31.130         2     no  southeast   2566.47070\n",
       "614    20  female  33.000         0     no  southeast   1880.07000\n",
       "692    20    male  32.395         1     no  northwest   2362.22905\n",
       "713    20    male  40.470         0     no  northeast   1984.45330\n",
       "815    20  female  31.460         0     no  southeast   1877.92940\n",
       "855    20  female  29.600         0     no  southwest   1875.34400\n",
       "984    20    male  30.115         5     no  northeast   4915.05985\n",
       "1042   20    male  30.685         0    yes  northeast  33475.81715\n",
       "1147   20  female  31.920         0     no  northwest   2261.56880\n",
       "1158   20  female  30.590         0     no  northeast   2459.72010\n",
       "1186   20    male  35.625         3    yes  northwest  37465.34375\n",
       "1223   20  female  24.420         0    yes  southeast  26125.67477\n",
       "1231   20  female  21.800         0    yes  southwest  20167.33603\n",
       "1252   20    male  27.300         0    yes  southwest  16232.84700\n",
       "1268   20  female  33.300         0     no  southwest   1880.48700\n",
       "1288   20    male  39.400         2    yes  southwest  38344.56600\n",
       "1295   20    male  22.000         1     no  southwest   1964.78000"
      ]
     },
     "execution_count": 17,
     "metadata": {},
     "output_type": "execute_result"
    }
   ],
   "source": [
    "# Filtering observations\n",
    "data[data['smoker'] == 'no']\n",
    "\n",
    "# filter people with age 20\n",
    "data[data['age'] == 20]"
   ]
  },
  {
   "cell_type": "code",
   "execution_count": 18,
   "metadata": {},
   "outputs": [
    {
     "data": {
      "text/html": [
       "<div>\n",
       "<style scoped>\n",
       "    .dataframe tbody tr th:only-of-type {\n",
       "        vertical-align: middle;\n",
       "    }\n",
       "\n",
       "    .dataframe tbody tr th {\n",
       "        vertical-align: top;\n",
       "    }\n",
       "\n",
       "    .dataframe thead th {\n",
       "        text-align: right;\n",
       "    }\n",
       "</style>\n",
       "<table border=\"1\" class=\"dataframe\">\n",
       "  <thead>\n",
       "    <tr style=\"text-align: right;\">\n",
       "      <th></th>\n",
       "      <th>age</th>\n",
       "      <th>bmi</th>\n",
       "      <th>children</th>\n",
       "      <th>charges</th>\n",
       "    </tr>\n",
       "  </thead>\n",
       "  <tbody>\n",
       "    <tr>\n",
       "      <th>count</th>\n",
       "      <td>1338.000000</td>\n",
       "      <td>1338.000000</td>\n",
       "      <td>1338.000000</td>\n",
       "      <td>1338.000000</td>\n",
       "    </tr>\n",
       "    <tr>\n",
       "      <th>mean</th>\n",
       "      <td>39.207025</td>\n",
       "      <td>30.663397</td>\n",
       "      <td>1.094918</td>\n",
       "      <td>13270.422265</td>\n",
       "    </tr>\n",
       "    <tr>\n",
       "      <th>std</th>\n",
       "      <td>14.049960</td>\n",
       "      <td>6.098187</td>\n",
       "      <td>1.205493</td>\n",
       "      <td>12110.011237</td>\n",
       "    </tr>\n",
       "    <tr>\n",
       "      <th>min</th>\n",
       "      <td>18.000000</td>\n",
       "      <td>15.960000</td>\n",
       "      <td>0.000000</td>\n",
       "      <td>1121.873900</td>\n",
       "    </tr>\n",
       "    <tr>\n",
       "      <th>25%</th>\n",
       "      <td>27.000000</td>\n",
       "      <td>26.296250</td>\n",
       "      <td>0.000000</td>\n",
       "      <td>4740.287150</td>\n",
       "    </tr>\n",
       "    <tr>\n",
       "      <th>50%</th>\n",
       "      <td>39.000000</td>\n",
       "      <td>30.400000</td>\n",
       "      <td>1.000000</td>\n",
       "      <td>9382.033000</td>\n",
       "    </tr>\n",
       "    <tr>\n",
       "      <th>75%</th>\n",
       "      <td>51.000000</td>\n",
       "      <td>34.693750</td>\n",
       "      <td>2.000000</td>\n",
       "      <td>16639.912515</td>\n",
       "    </tr>\n",
       "    <tr>\n",
       "      <th>max</th>\n",
       "      <td>64.000000</td>\n",
       "      <td>53.130000</td>\n",
       "      <td>5.000000</td>\n",
       "      <td>63770.428010</td>\n",
       "    </tr>\n",
       "  </tbody>\n",
       "</table>\n",
       "</div>"
      ],
      "text/plain": [
       "               age          bmi     children       charges\n",
       "count  1338.000000  1338.000000  1338.000000   1338.000000\n",
       "mean     39.207025    30.663397     1.094918  13270.422265\n",
       "std      14.049960     6.098187     1.205493  12110.011237\n",
       "min      18.000000    15.960000     0.000000   1121.873900\n",
       "25%      27.000000    26.296250     0.000000   4740.287150\n",
       "50%      39.000000    30.400000     1.000000   9382.033000\n",
       "75%      51.000000    34.693750     2.000000  16639.912515\n",
       "max      64.000000    53.130000     5.000000  63770.428010"
      ]
     },
     "execution_count": 18,
     "metadata": {},
     "output_type": "execute_result"
    }
   ],
   "source": [
    "data.describe()"
   ]
  },
  {
   "cell_type": "code",
   "execution_count": 24,
   "metadata": {},
   "outputs": [
    {
     "name": "stdout",
     "output_type": "stream",
     "text": [
      "18.0\n",
      "18.0\n",
      "18.0\n"
     ]
    }
   ],
   "source": [
    "l = [1,2,3,4,5,9,81,2,6,3,99,1]\n",
    "n = np.array(l)\n",
    "\n",
    "# Computing Mean\n",
    "print(np.mean(n))\n",
    "print(n.mean())\n",
    "\n",
    "print(sum(l)/len(l))"
   ]
  },
  {
   "cell_type": "code",
   "execution_count": 14,
   "metadata": {},
   "outputs": [],
   "source": [
    "# Exercise\n",
    "\n",
    "# Explore what weighted mean is and compute it for the following\n",
    "\n",
    "weights = [0.4, 0.6, 0.9, 0.2]\n",
    "x = [8, 9, 12, 41]\n",
    "\n",
    "# compute weighted mean"
   ]
  },
  {
   "cell_type": "code",
   "execution_count": 27,
   "metadata": {},
   "outputs": [],
   "source": [
    "# Compute average age, BMI, and charges"
   ]
  },
  {
   "cell_type": "markdown",
   "metadata": {},
   "source": [
    "#### Median\n",
    "The median is the middle value present within data when the data is arranged in ascending/descending order\n"
   ]
  },
  {
   "cell_type": "code",
   "execution_count": 26,
   "metadata": {},
   "outputs": [
    {
     "data": {
      "text/plain": [
       "30.4"
      ]
     },
     "execution_count": 26,
     "metadata": {},
     "output_type": "execute_result"
    }
   ],
   "source": [
    "np.median(data['bmi'])\n",
    "\n",
    "data['bmi'].median()"
   ]
  },
  {
   "cell_type": "code",
   "execution_count": 28,
   "metadata": {},
   "outputs": [],
   "source": [
    "# Compute median of age, BMI, and charges and compare them with mean values."
   ]
  },
  {
   "cell_type": "markdown",
   "metadata": {},
   "source": [
    "#### Median and Inter Quartile Range (IQR)\n",
    "The dataset can be divided into four parts in quartiles, each containing approximately 25% or 1/4th of the observations. These division points are referred to as Quartiles and are defined as:\n",
    "\n",
    "* **Q1**: first quartile or 25th percentile. It comprises the lowest 25% of the observations.\n",
    "* **Q2**: second quartile or 50th percentile. It is also known as the median, containing 0% to 50% of the observations.\n",
    "* **Q3**: third quartile or 75th percentile. It consists of 0% to 75% of the observations.\n",
    "* **Q4**: fourth quartile or 25th percentile. It has the highest 25% of the observations.\n",
    "\n",
    "<img src=\"Images/Quartiles.png\" width=\"500\" height=\"250\">"
   ]
  },
  {
   "cell_type": "markdown",
   "metadata": {},
   "source": [
    "#### Five-point Summary\n",
    "\n",
    "Five-point summary is a measure that summarizes the center, location, and shape of the data. The five-point summary is:\n",
    "\n",
    "1. Minimum value (the smallest observation in the data)\n",
    "2. First Quartile (Q1)\n",
    "3. Second Quartile (Median or Q2)\n",
    "4. Third Quartile (Q3)\n",
    "5. Maximum value (the largest observation in the data)"
   ]
  },
  {
   "cell_type": "code",
   "execution_count": 31,
   "metadata": {},
   "outputs": [],
   "source": [
    "# Create a five point summary for age, BMI, and charges and print them."
   ]
  },
  {
   "cell_type": "markdown",
   "metadata": {},
   "source": [
    "#### Outliers and Box Plots\n",
    "An outlier is an observation that lies an abnormal distance from other values in a random sample from a population. A box plot is constructed by drawing a box between the upper and lower quartiles with a solid line drawn across the box to locate the median. The following quantities (called fences) are needed for identifying extreme values in the tails of the distribution:\n",
    "* lower inner fence: Q1 - 1.5*IQ\n",
    "* upper inner fence: Q3 + 1.5*IQ\n",
    "* lower outer fence: Q1 - 3*IQ\n",
    "* upper outer fence: Q3 + 3*IQ\n",
    "\n",
    "Points outside these fences can be considered as outliers."
   ]
  },
  {
   "cell_type": "code",
   "execution_count": 27,
   "metadata": {},
   "outputs": [],
   "source": [
    "# Define these fences for age, BMI, and Charges. "
   ]
  },
  {
   "cell_type": "markdown",
   "metadata": {},
   "source": [
    "#### Mode\n",
    "The Mode occurs most often, i.e., the value with the maximum frequency of occurrence."
   ]
  },
  {
   "cell_type": "code",
   "execution_count": 33,
   "metadata": {},
   "outputs": [],
   "source": [
    "# Exercise\n",
    "# Numpy doesn't have a predefined function for Mode. \n",
    "# Please create a custome function to compute mode.\n",
    "def mode(numpy_array):\n",
    "    pass\n",
    "\n",
    "\n",
    "mode(n)\n",
    "\n",
    "# scipy library has a predefined function for mode. \n",
    "# Search internet, import the specific function from scipy library and compute mode.\n",
    "\n",
    "# Find mode values of age, BMI, and charges"
   ]
  },
  {
   "cell_type": "markdown",
   "metadata": {},
   "source": [
    "Median and Mode are not affected by extreme values (i.e., by outliers), whereas Mean is affected by outliers."
   ]
  },
  {
   "cell_type": "markdown",
   "metadata": {},
   "source": [
    "#### Range\n",
    "It is the simplest measure of variability. Range is computed by taking the difference between the largest (maximum) value and the smallest (minimum) value."
   ]
  },
  {
   "cell_type": "code",
   "execution_count": 34,
   "metadata": {},
   "outputs": [],
   "source": [
    "## Compute range of age, BMI, and Charges"
   ]
  },
  {
   "cell_type": "markdown",
   "metadata": {},
   "source": [
    "#### Variance\n",
    "Variance is the average square deviation from each observation to the mean. It takes in all the values of the data. Variance of data is calculated by dividing the sum of the squares of each data point’s differences from the data’s average by the total number of values in the data. <br><br>\n",
    "\n",
    "A low variance implies that the values in the data are closer to the mean, and a higher variance indicates that the data is spread out from the mean.\n",
    "\n",
    "#### Standard deviation\n",
    "It is the positive square root of the variance. Standard deviation is denoted by sigma (σ). "
   ]
  },
  {
   "cell_type": "code",
   "execution_count": 35,
   "metadata": {},
   "outputs": [],
   "source": [
    "# Compute Standard deviation for age, BMI, and charges."
   ]
  },
  {
   "cell_type": "code",
   "execution_count": 37,
   "metadata": {},
   "outputs": [],
   "source": [
    "# Print all the descriptive statistics together.\n",
    "# Write a 15 line summary about your findings."
   ]
  },
  {
   "cell_type": "markdown",
   "metadata": {},
   "source": [
    "## Skewness\n",
    "\n",
    "In probability theory and statistics, skewness is a measure of the asymmetry of the probability distribution of a real-valued random variable about its mean. The skewness value can be positive or negative, or undefined\n",
    "\n",
    "<img src=\"Images/skewness.jpg\" width=\"800\" height=\"250\">"
   ]
  },
  {
   "cell_type": "code",
   "execution_count": 45,
   "metadata": {},
   "outputs": [
    {
     "data": {
      "text/html": [
       "<div>\n",
       "<style scoped>\n",
       "    .dataframe tbody tr th:only-of-type {\n",
       "        vertical-align: middle;\n",
       "    }\n",
       "\n",
       "    .dataframe tbody tr th {\n",
       "        vertical-align: top;\n",
       "    }\n",
       "\n",
       "    .dataframe thead th {\n",
       "        text-align: right;\n",
       "    }\n",
       "</style>\n",
       "<table border=\"1\" class=\"dataframe\">\n",
       "  <thead>\n",
       "    <tr style=\"text-align: right;\">\n",
       "      <th></th>\n",
       "      <th>age</th>\n",
       "      <th>sex</th>\n",
       "      <th>bmi</th>\n",
       "      <th>children</th>\n",
       "      <th>smoker</th>\n",
       "      <th>region</th>\n",
       "      <th>charges</th>\n",
       "    </tr>\n",
       "  </thead>\n",
       "  <tbody>\n",
       "    <tr>\n",
       "      <th>0</th>\n",
       "      <td>19</td>\n",
       "      <td>female</td>\n",
       "      <td>27.900</td>\n",
       "      <td>0</td>\n",
       "      <td>yes</td>\n",
       "      <td>southwest</td>\n",
       "      <td>16884.92400</td>\n",
       "    </tr>\n",
       "    <tr>\n",
       "      <th>1</th>\n",
       "      <td>18</td>\n",
       "      <td>male</td>\n",
       "      <td>33.770</td>\n",
       "      <td>1</td>\n",
       "      <td>no</td>\n",
       "      <td>southeast</td>\n",
       "      <td>1725.55230</td>\n",
       "    </tr>\n",
       "    <tr>\n",
       "      <th>2</th>\n",
       "      <td>28</td>\n",
       "      <td>male</td>\n",
       "      <td>33.000</td>\n",
       "      <td>3</td>\n",
       "      <td>no</td>\n",
       "      <td>southeast</td>\n",
       "      <td>4449.46200</td>\n",
       "    </tr>\n",
       "    <tr>\n",
       "      <th>3</th>\n",
       "      <td>33</td>\n",
       "      <td>male</td>\n",
       "      <td>22.705</td>\n",
       "      <td>0</td>\n",
       "      <td>no</td>\n",
       "      <td>northwest</td>\n",
       "      <td>21984.47061</td>\n",
       "    </tr>\n",
       "    <tr>\n",
       "      <th>4</th>\n",
       "      <td>32</td>\n",
       "      <td>male</td>\n",
       "      <td>28.880</td>\n",
       "      <td>0</td>\n",
       "      <td>no</td>\n",
       "      <td>northwest</td>\n",
       "      <td>3866.85520</td>\n",
       "    </tr>\n",
       "  </tbody>\n",
       "</table>\n",
       "</div>"
      ],
      "text/plain": [
       "   age     sex     bmi  children smoker     region      charges\n",
       "0   19  female  27.900         0    yes  southwest  16884.92400\n",
       "1   18    male  33.770         1     no  southeast   1725.55230\n",
       "2   28    male  33.000         3     no  southeast   4449.46200\n",
       "3   33    male  22.705         0     no  northwest  21984.47061\n",
       "4   32    male  28.880         0     no  northwest   3866.85520"
      ]
     },
     "execution_count": 45,
     "metadata": {},
     "output_type": "execute_result"
    }
   ],
   "source": [
    "data.head()"
   ]
  },
  {
   "cell_type": "code",
   "execution_count": 55,
   "metadata": {},
   "outputs": [
    {
     "data": {
      "image/png": "[encoded data removed]",
      "text/plain": [
       "<Figure size 720x432 with 1 Axes>"
      ]
     },
     "metadata": {
      "needs_background": "light"
     },
     "output_type": "display_data"
    }
   ],
   "source": [
    "## plot the hist with mean median and mode - This needs to be checked! \n",
    "\n",
    "bmi = np.array(data['bmi'])\n",
    "plt.figure(figsize=(10, 6)) \n",
    "plt.hist(bmi, bins=40, color = 'yellow')\n",
    "\n",
    "plt.plot([data['bmi'].mean()]*100, range(100), color = 'black', label='mode') \n",
    "plt.plot([data['bmi'].median()]*100, range(100), label='median')\n",
    "plt.plot([data['bmi'].mode()]*100, range(100), label='mean')\n",
    "\n",
    "plt.legend()\n",
    "plt.show()\n"
   ]
  },
  {
   "cell_type": "code",
   "execution_count": 56,
   "metadata": {},
   "outputs": [],
   "source": [
    "# Plot similary histogram for age and charges.\n",
    "\n",
    "# Just by looking at the graph can you observe any skewness.\n",
    "\n",
    "# Try to compute the skewness of the age, bmi, and charges (google for respective function.)\n",
    "\n"
   ]
  },
  {
   "cell_type": "markdown",
   "metadata": {},
   "source": [
    "### Covariance: Measure of Association between two variables"
   ]
  },
  {
   "cell_type": "markdown",
   "metadata": {},
   "source": [
    "#### Covariance\n",
    "Covariance measures the strength of the linear relationship between two numerical variables. Covariance cannot tell whether the value indicates a strong or weak relationship because covariance can take any value and the covariance value depends on the units of measurement of the variables x and y. This is where the next measure, the correlation coefficient, comes to aid us. \n",
    "\n",
    "#### Correlation Coefficient\n",
    "The correlation coefficient measures the relationship between two variables that are not affected by the units of measurement. This measure tells us the relative strength of a linear relationship between two numerical variables. \n",
    "\n",
    "<img src=\"Images/Correlation.jpg\" width=\"500\" height=\"250\">"
   ]
  },
  {
   "cell_type": "code",
   "execution_count": 59,
   "metadata": {},
   "outputs": [],
   "source": [
    "# Compute correlation and covariance between bmi and charges\n",
    "\n",
    "# Compute correlation and covariance between charges and age\n",
    "\n",
    "# Compute correlation and covariance between age and bmi\n"
   ]
  }
 ],
 "metadata": {
  "kernelspec": {
   "display_name": "env_tf",
   "language": "python",
   "name": "python3"
  },
  "language_info": {
   "codemirror_mode": {
    "name": "ipython",
    "version": 3
   },
   "file_extension": ".py",
   "mimetype": "text/x-python",
   "name": "python",
   "nbconvert_exporter": "python",
   "pygments_lexer": "ipython3",
   "version": "3.9.9"
  }
 },
 "nbformat": 4,
 "nbformat_minor": 2
}
