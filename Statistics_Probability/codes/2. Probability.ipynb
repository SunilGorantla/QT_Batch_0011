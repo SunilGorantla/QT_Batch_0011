{
 "cells": [
  {
   "cell_type": "markdown",
   "metadata": {},
   "source": [
    "# Introduction to Probability\n",
    "\n",
    "* Basic Probability\n",
    "* Conditional Probability\n",
    "* Simple Probability Distribution\n",
    "* Probability Mass Function (p.m.f) & Probability Density Function (p.d.f)\n",
    "* Normal Distribution\n",
    "* Normal Distribution & Standard Deviation\n",
    "* Concept of Z-score\n"
   ]
  },
  {
   "cell_type": "markdown",
   "metadata": {},
   "source": [
    "## Probability and Counting\n",
    "\n",
    "Probability denotes the happening of a certain event, and the occurrence of that event, based on past experiences. The probability is the ratio of favorable events to the total number of equally likely events.\n",
    "\n",
    "$$\n",
    "P(A) = \\frac{\\text{number of outcomes where A occurs}}{\\text{number of possible outcomes}}\n",
    "$$\n",
    "\n",
    "<br><br>\n",
    "1. **Random Experiment or Trial**: It refers to an action or an operation which can produce any result or outcome.\n",
    "2. **Event**: Event is any possible outcome of a random experiment.\n",
    "3. **Sample space**: The set of all possible outcomes of an experiment is called sample space. For example, when we roll a die, the possible outcomes are 1, 2, 3, 4, 5, and 6.\n",
    "4. **Mutually exclusive events or cases**: The occurrence of which prevents the possibility of the other to occur. For example, if a coin is tossed, either the head can be up or tail can be up, but both cannot be up at the same time.\n",
    "5. **Equally likely events**: Two or more events are said to be equally likely if the chance of their happening is equal. For example, the head and tail are equally likely events in tossing an unbiased coin.\n",
    "6. **Exhaustive events**: Exhaustive events refer to the total number of possible outcomes of a random experiment. For example, tossing a coin, the possible outcome is head or tail, exhaustive events are two.\n",
    "7. **Independent Events**: A set of events is said to be independent if the occurrence of an outcome of them does not affect the occurrence of any other outcome in the set.\n",
    "Dependent Events: Dependent events are those the occurrence of one event affects the happening of the other events.\n",
    "8. **Favorable Cases**: The number of outcomes which result in the happening of the desired event is called favorable cases to the event. For example, in a single throw of dice, the number of favorable cases of getting an odd number are three -1, 3 and 5."
   ]
  },
  {
   "cell_type": "markdown",
   "metadata": {},
   "source": [
    "## Conditional Probability\n",
    "\n",
    "To quantify how probabilities change in light of new information, we calculate the conditional probability.<br>\n",
    "The | symbol is read “given” and the event after the | symbol represents information that we know.\n",
    "\n",
    "$$\n",
    "P(A | B) = \\frac{P(A \\cap B)}{P(B)}\n",
    "$$\n",
    "\n",
    "Examples\n",
    "* There are 10 candies in a bag: 5 green, and 5 blue.\n",
    "\n",
    "* What is the probability of getting 3 blue candies in a row?\n",
    "\n",
    "* The probability of getting the first blue candy is 5/10, or 1/2.\n",
    "\n",
    "When we pick a blue candy, though, we remove it from the bag. We're left with 9 candies in total with (5-1 =)4 Blue ones.\n",
    "So the probability of getting another blue is 4/9.\n",
    "Similarly, the probability of picking a third blue candy is 3/8\n",
    "\n",
    "Since we're calculating the probability of picking 1 Blue Candy AND 1 Blue Candy AND 1 Blue Candy\n",
    "\n",
    "* Our final probability is **1/2 * 4/9 * 3/8, or .0833**. So, there is an 8.3% chance of picking three blue candies in a row.\n",
    "Simple tricks: Whenever you have to verbally say AND (like we just did above), you will want to MULTIPLY the probabilities\n",
    "Whenever you have to verbally say OR, you will want to ADD the probabilities."
   ]
  },
  {
   "cell_type": "markdown",
   "metadata": {},
   "source": [
    "## Law of Total Probability\n",
    "\n",
    "You watch a magician place 4 ordinary coins and 1 double-headed coin into a box. If you select a coin from the box at random and toss it, what is the probability that it lands heads?\n",
    "\n",
    "$$\n",
    "P(head | ordinary) = ?\n",
    "$$\n",
    "\n",
    "$$\n",
    "P(head | Double headed) = ?\n",
    "$$\n",
    "\n",
    "$$\n",
    "P(A) = \\sum_{i=1}^{n} P(A | B_i) \\cdot P(B_i)\n",
    "$$"
   ]
  },
  {
   "cell_type": "markdown",
   "metadata": {},
   "source": [
    "## Bayes' Theorem\n",
    "$$\n",
    "P(A|B)=\\frac{P(A)P(B|A)}{P(B)}\n",
    "$$\n",
    "\n",
    "<img src=\"Images/bayes.png\" width=\"500\" height=\"500\">"
   ]
  },
  {
   "cell_type": "markdown",
   "metadata": {},
   "source": [
    "## Probability Distributions\n"
   ]
  },
  {
   "cell_type": "markdown",
   "metadata": {},
   "source": [
    "### Simple Probability Distribution\n",
    "\n",
    "* Lets Take an example, that we throw a dice of containing six faces.\n",
    "* so, there are Total no. of Combinations = 6*6 = 36\n",
    "\n",
    "Let’s see how:\n",
    "\n",
    "2 {(1,1)} => 1/36\n",
    "\n",
    "3 {(1,2),(2,1)} => 2/36\n",
    "\n",
    "4 {(2,2),(3,1),(1,3)} => 3/36\n",
    "\n",
    "5 {(1,4),(4,1),(2,3),(3,2)} => 4/36\n",
    "\n",
    "6 {(3,3),(1,5),(5,1),(2,4),(4,2)} => 5/36\n",
    "\n",
    "7 {(1,6),(6,1),(2,5),(5,2),(3,4),(4,3)} => 6/36\n",
    "\n",
    "8 {(2,6),(6,2),(3,5),(5,3),(4,4)} => 5/36\n",
    "\n",
    "9 {(3,6),(6,3),(5,4),(4,5)} => 4/36\n",
    "\n",
    "10 {(4,6),(6,4),(5,5)} => 3/36\n",
    "\n",
    "11 {(5,6),(6,5)} => 2/36\n",
    "\n",
    "12 {(6,6)} = > 1/36"
   ]
  },
  {
   "cell_type": "markdown",
   "metadata": {},
   "source": [
    "## PDF and PMF\n",
    "\n",
    "* The probability distribution for a discrete random variable is the **probability mass function** for that variable and similarly and if our random variable takes continuous values the distribution is called a **probability density function**.\n",
    "\n",
    "* In the previous what we plotted was the Probability Mass Function of a Discrete Random Variable (X which is the sum of two fair dies)\n",
    "\n",
    "* One of the most common Probability Distribution Functions is the Normal Distribution.\n",
    "\n",
    "<img src=\"Images/cdf.jpeg\" width=\"500\" height=\"300\">\n",
    "\n"
   ]
  },
  {
   "cell_type": "markdown",
   "metadata": {},
   "source": [
    "## Normal Distrution\n",
    "\n",
    "* Normal distribution, also known as the Gaussian distribution, is a probability distribution that is symmetric about the mean, showing that data near the mean are more frequent in occurrence than data far from the mean. In graph form, normal distribution will appear as a bell curve."
   ]
  },
  {
   "cell_type": "markdown",
   "metadata": {},
   "source": []
  },
  {
   "cell_type": "markdown",
   "metadata": {},
   "source": []
  },
  {
   "cell_type": "markdown",
   "metadata": {},
   "source": []
  },
  {
   "cell_type": "markdown",
   "metadata": {},
   "source": []
  },
  {
   "cell_type": "markdown",
   "metadata": {},
   "source": []
  },
  {
   "cell_type": "markdown",
   "metadata": {},
   "source": []
  },
  {
   "cell_type": "code",
   "execution_count": null,
   "metadata": {},
   "outputs": [],
   "source": []
  }
 ],
 "metadata": {
  "language_info": {
   "name": "python"
  }
 },
 "nbformat": 4,
 "nbformat_minor": 2
}
