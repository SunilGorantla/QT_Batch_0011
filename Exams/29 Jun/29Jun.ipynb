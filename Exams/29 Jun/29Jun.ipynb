{
 "cells": [
  {
   "cell_type": "markdown",
   "metadata": {},
   "source": [
    "## Question 1: Iterative line fitting by Distance Minimization\n",
    "\n",
    "### Back Ground\n",
    "Fitting a line to a set of points is a fundamental problem in data science and machine learning. Unlike the least sqaure method which minimizes the sum of distances. This problem focuses on minimizing the sum of perpendicular distance between points and line. This requires iteratively adjusting the line's slops and bias values.\n",
    "\n",
    "### Objective:\n",
    "Create two classs named 'LineModel' and 'OptimizeLineModel'\n",
    "\n",
    "* 'LineModel': creates a default line and stores points as attributes.\n",
    "* 'OptimizeLineModel': Inherits from 'LineModel' and as additional functionality to improve the line's slops and bias values to minimize the distance between points and line.\n",
    "\n",
    "#### Scoring criteria:\n",
    "1. Correctness: successfully implementation without any errors: 30 points\n",
    "2. Edge Cases: Identification of edge cases and handling them: 10 points\n",
    "3. Coding style: Following a single coding style: 5 points\n",
    "4. Comments: Adding appropriate comments: 5 points"
   ]
  },
  {
   "cell_type": "code",
   "execution_count": null,
   "metadata": {},
   "outputs": [],
   "source": [
    "class LineModel:\n",
    "    def __init__(self):\n",
    "        \"\"\"\n",
    "        Initialize a new LineModel with a default slope and bias values\n",
    "        \"\"\"\n",
    "\n",
    "        pass\n",
    "\n",
    "    def add_points(self, points):\n",
    "        \"\"\"\n",
    "        Adds a new points to the existing points list.\n",
    "        \"\"\"\n",
    "        pass\n",
    "\n",
    "    def totat_distance(self):\n",
    "        \"\"\"\n",
    "        Computes the summation of all distances between points and line and return the sum.\n",
    "        \"\"\"\n",
    "        pass\n",
    "\n",
    "    def line_equations(self):\n",
    "        \"\"\"\n",
    "        Prints line equation in the form of y = mx + c\n",
    "        \"\"\"\n",
    "        pass\n",
    "\n",
    "class OptimizeLineModel(LineModel):\n",
    "\n",
    "    def __init__(self, learning_rate, iterations):\n",
    "        super().__init__()\n",
    "        \"\"\"Initialize a new OptimizeLineModel with a default learning rate and iterations\"\"\"\n",
    "        pass\n",
    "\n",
    "    def OptimizeLine(self):\n",
    "        \"\"\"Update the line slope and bias values\"\"\"\n",
    "        pass\n",
    "\n",
    "# Implementation\n",
    "\n",
    "# TestCase\n",
    "points = [(1,2), (4,8), (3,6), (8,16)]\n",
    "\n",
    "model = OptimizeLineModel(learning_rate= 0.5, iterations = 10)\n",
    "model.add_points(points)\n",
    "model.OptimizeLine()\n",
    "\n",
    "\n",
    "print(f'Total distance: {model.totat_distance()}')\n",
    "print(f'Line equation is: {model.line_equations()}')"
   ]
  },
  {
   "cell_type": "markdown",
   "metadata": {},
   "source": [
    "## Question 2: Hypothesis Test (Two Tailed) Confidence Intervales\n",
    "\n",
    "### BackGround\n",
    "\n",
    "A nutrition research group is trying to understand impact of different diet plans on weight loss and collected sample data from a group of participants with two different diet plans.  The study included participants were randomly picked and they either follow diet 1 or diet 2. After 12 weeks of close monitoring the weight loss of each participant is recorded. The researchers want to determine if there is a significant difference in the mean weight loss between the two groups. <br>\n",
    "\n",
    "#### The given excel contains the weight loss data.\n",
    "\n",
    "\n",
    "#### Questions\n",
    "1. Determine the central value for each group. (10 Points)\n",
    "2. Design a hypothesis test on diet 1 group that there is a significant weight loss. Give an explanation if you can/cannot reject the hypothesis test and why. (20 Points)\n",
    "3. Design a hypothesis test comparing the new diet group and control group suggesting weigth loss is more in new diet group. Give an explanation if you can/cannot reject the hypothesis test and why. (20 Points)\n",
    "\n",
    "\n",
    "#### Hints\n",
    "* Hint: Assume default rejection/error thresholds (5%)\n",
    "* Hint: This is a two tail test.\n",
    "* Hint: When you combine two distributions with standard deviations SD1 and SD2 respectively then the standard deviation of combine distribution is SD = SD1 + SD2\n"
   ]
  },
  {
   "cell_type": "markdown",
   "metadata": {},
   "source": []
  }
 ],
 "metadata": {
  "kernelspec": {
   "display_name": "env_tf",
   "language": "python",
   "name": "python3"
  },
  "language_info": {
   "codemirror_mode": {
    "name": "ipython",
    "version": 3
   },
   "file_extension": ".py",
   "mimetype": "text/x-python",
   "name": "python",
   "nbconvert_exporter": "python",
   "pygments_lexer": "ipython3",
   "version": "3.9.9"
  }
 },
 "nbformat": 4,
 "nbformat_minor": 2
}
