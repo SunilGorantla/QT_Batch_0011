{
 "cells": [
  {
   "cell_type": "code",
   "execution_count": null,
   "metadata": {},
   "outputs": [],
   "source": [
    "import pandas as pd\n",
    "import numpy as np\n",
    "\n",
    "import seaborn as sns\n",
    "import matplotlib.pyplot as plt\n",
    "%matplotlib inline\n",
    "\n",
    "import statsmodels.api as sm"
   ]
  },
  {
   "cell_type": "code",
   "execution_count": 5,
   "metadata": {},
   "outputs": [],
   "source": [
    "## Please load test dataset and perform same operatins on it"
   ]
  },
  {
   "cell_type": "code",
   "execution_count": null,
   "metadata": {},
   "outputs": [],
   "source": [
    "# Load dataset\n",
    "\n",
    "data = pd.read_csv('______.csv')\n",
    "data.head()"
   ]
  },
  {
   "cell_type": "code",
   "execution_count": null,
   "metadata": {},
   "outputs": [],
   "source": [
    "# Print Dimensions of the dataset\n",
    "data._____"
   ]
  },
  {
   "cell_type": "code",
   "execution_count": null,
   "metadata": {},
   "outputs": [],
   "source": [
    "# Summary of the dataset\n",
    "data.info()\n",
    "data.isnull.sum()\n"
   ]
  },
  {
   "cell_type": "code",
   "execution_count": null,
   "metadata": {},
   "outputs": [],
   "source": [
    "# check for duplicate values\n",
    "\n",
    "duplicate = data.duplicates().sum()\n",
    "print(f\"Number of duplicate entries: {duplicate}\")"
   ]
  },
  {
   "cell_type": "markdown",
   "metadata": {},
   "source": [
    "## Univariant Analysis"
   ]
  },
  {
   "cell_type": "code",
   "execution_count": null,
   "metadata": {},
   "outputs": [],
   "source": [
    "# Distribution of Target Variable\n",
    "sns.histplot(data['item_outlet_sales'], kde = True)\n",
    "plt.show()\n",
    "\n",
    "# Distribtution of numerial distributions\n",
    "sns.histplot(data['item_weight'].dropna(), kde = True)\n",
    "plt.show()\n",
    "\n",
    "# Please check the distribution of rest of the numerical features...\n",
    "\n"
   ]
  },
  {
   "cell_type": "code",
   "execution_count": null,
   "metadata": {},
   "outputs": [],
   "source": [
    "# Count Categorical Features\n",
    "data['item_fat_contants'].value_counts()\n",
    "\n",
    "# .... Continue"
   ]
  },
  {
   "cell_type": "code",
   "execution_count": null,
   "metadata": {},
   "outputs": [],
   "source": [
    "# Please check for inconsistent values (item_fat_contants)"
   ]
  },
  {
   "cell_type": "markdown",
   "metadata": {},
   "source": [
    "## Data Cleaning and Processing"
   ]
  },
  {
   "cell_type": "code",
   "execution_count": null,
   "metadata": {},
   "outputs": [],
   "source": [
    "# Handling Missing Values\n",
    "data['item_weight'].fillna(data['item_weight'].mean(), inplace = True) # Check the use of inplace parameter\n",
    "\n",
    "# Handling inconsistent values\n",
    "data['item_fat_contant'].replace({'LF':'Low Fat', ________ }) # Fill rest of the dictionary values\n",
    "\n",
    "# Transform features (outlet_age)\n",
    "data['outlet_age'] = 2024 - data['outlet_establishement_year']"
   ]
  },
  {
   "cell_type": "markdown",
   "metadata": {},
   "source": [
    "## Bivariant Analysis"
   ]
  },
  {
   "cell_type": "code",
   "execution_count": null,
   "metadata": {},
   "outputs": [],
   "source": [
    "# Relationship between numerical features and target values\n",
    "\n",
    "sns.scatterplot(data=data, x='item_weight', y = 'item_outlet_sales')\n",
    "plt.show()\n",
    "\n",
    "# Continue ploting for rest of the features\n",
    "................................................................\n",
    "\n",
    "\n",
    "\n"
   ]
  },
  {
   "cell_type": "code",
   "execution_count": null,
   "metadata": {},
   "outputs": [],
   "source": [
    "# Relationship between categorical features and target features\n",
    "sns.boxplot(data=data, x = 'item_fat_content', y = 'item_outlet_sales')\n",
    "plt.show()\n",
    "\n",
    "\n",
    "# .... Continue\n"
   ]
  },
  {
   "cell_type": "markdown",
   "metadata": {},
   "source": [
    "##  multivariant Analysis"
   ]
  },
  {
   "cell_type": "code",
   "execution_count": null,
   "metadata": {},
   "outputs": [],
   "source": [
    "# Interaction between features\n",
    "sns.barplot(data=data, x = 'item_outlet_sales', y = 'item_type', hue = 'outlet_type')\n",
    "plt.show()\n",
    "\n",
    "# .... Continue"
   ]
  },
  {
   "cell_type": "markdown",
   "metadata": {},
   "source": [
    "# Outlier Detection"
   ]
  },
  {
   "cell_type": "code",
   "execution_count": null,
   "metadata": {},
   "outputs": [],
   "source": [
    "sns.boxplot(data['item_outlet_sales'])\n",
    "plt.show()\n",
    "\n",
    "# Handling outliers\n",
    "# Can transform, remove, cap the outlier\n"
   ]
  },
  {
   "cell_type": "markdown",
   "metadata": {},
   "source": [
    "## Feature Engineering"
   ]
  },
  {
   "cell_type": "code",
   "execution_count": null,
   "metadata": {},
   "outputs": [],
   "source": [
    "# New feature for price range\n",
    "data['Price_Rage'] = pd.qcut(data['item_mrp'], q = _____) # Use google to find out what this function does.\n",
    "\n",
    "# Create dummies for categorical variables\n"
   ]
  },
  {
   "cell_type": "markdown",
   "metadata": {},
   "source": [
    "## Visualizations\n"
   ]
  },
  {
   "cell_type": "code",
   "execution_count": null,
   "metadata": {},
   "outputs": [],
   "source": [
    "## Correlation plot\n",
    "corr = data.corr()\n",
    "sns.heatmap(corr, annot=True, cmap = 'coolwarm')\n",
    "plt.show()\n",
    "\n",
    "# Time series analysis\n"
   ]
  },
  {
   "cell_type": "markdown",
   "metadata": {},
   "source": [
    "## Reporting"
   ]
  },
  {
   "cell_type": "code",
   "execution_count": null,
   "metadata": {},
   "outputs": [],
   "source": [
    "# Summarize your findings. Do not use code snipets. Please write at least 2 lines about each feature.\n",
    "\n"
   ]
  },
  {
   "cell_type": "markdown",
   "metadata": {},
   "source": [
    "## Fitting a model (Linear Regression)"
   ]
  },
  {
   "cell_type": "code",
   "execution_count": 7,
   "metadata": {},
   "outputs": [],
   "source": [
    "from sklearn.linear_model import LinearRegression\n",
    "from sklearn.model_selection import train_test_split\n",
    "from sklearn.metrics import mean_absolute_error, mean_squared_error, r2_score\n",
    "from sklearn.preprocessing import OneHotEncoder, StandardScaler\n",
    "from statsmodels.stats.outliers_influence import variance_inflation_factor\n",
    "\n",
    "import statsmodels.api as sm \n",
    "\n"
   ]
  },
  {
   "cell_type": "code",
   "execution_count": null,
   "metadata": {},
   "outputs": [],
   "source": [
    "x_train, x_test, y_train, y_test = train_test_split(data, target, test_size = 0.2, random_state=46)"
   ]
  },
  {
   "cell_type": "code",
   "execution_count": null,
   "metadata": {},
   "outputs": [],
   "source": [
    "# Scaling features\n",
    "scaler = StandardScaler()\n",
    "x_train_scaled = scaler.fit_transform(x_train)\n",
    "x_test_scaled = scaler.fit_transform(x_test)\n"
   ]
  },
  {
   "cell_type": "code",
   "execution_count": null,
   "metadata": {},
   "outputs": [],
   "source": [
    "# Fitting the linear regression model\n",
    "model = LinearRegression()\n",
    "model.fit(x_train_scaled, y_train)"
   ]
  },
  {
   "cell_type": "code",
   "execution_count": null,
   "metadata": {},
   "outputs": [],
   "source": [
    "# Predict on the test set\n",
    "y_pred = mode.predict(x_test_scaled)"
   ]
  },
  {
   "cell_type": "code",
   "execution_count": null,
   "metadata": {},
   "outputs": [],
   "source": [
    "# Model Evaluation\n",
    "mse = mean_squared_error(y_test, y_pred)\n",
    "r2 = r2_score(y_test, y_pred)\n",
    "\n",
    "# Print these values (MSE and R-Squared values)"
   ]
  },
  {
   "cell_type": "code",
   "execution_count": null,
   "metadata": {},
   "outputs": [],
   "source": [
    "# Checking assumptions\n",
    "\n",
    "\n",
    "# Assumption 1: Linearity\n",
    "sns.scatterplot(x = y_test, y = y_pred)\n",
    "plt.xlable('actual sales ')\n",
    "plt.ylable('predited sales ')\n",
    "plt.title ('actual vs prdeicted sales')\n",
    "plt.show()\n",
    "\n",
    "# Assumption  2 : Normaity of residuals\n",
    "residuals = _test - y_pred\n",
    "sns.histplot(residuals, kde = Ture)\n",
    "plt.title('Residuals distribution')\n",
    "plt.show()\n",
    "\n",
    "# Assumption 3 : Homoscedasticity\n",
    "sns.scatterplot(x = y_pred, y = residuals)\n",
    "plt.xlabel('Predicted sales')\n",
    "plt.ylabel('Residuals')\n",
    "plt.axhline(y = 0, color = 'r', linestyle = '--')\n",
    "plt.show()\n",
    "\n",
    "\n",
    "\n",
    "# Assumption 4: INdependence of residuals\n",
    "# durbin_watson test\n",
    "\n",
    "\n",
    "# Assumption 5: No multicollinearitty among predictors\n",
    "vif_data = pd.DataFrame()\n",
    "vif_data['features' ] = x_train.columns\n",
    "vif_data['VIF'] = [variance_inflation_factor(x_train.values,i) for i in range(len(x_train.columns))]\n",
    "vif_data"
   ]
  },
  {
   "cell_type": "code",
   "execution_count": null,
   "metadata": {},
   "outputs": [],
   "source": []
  },
  {
   "cell_type": "code",
   "execution_count": null,
   "metadata": {},
   "outputs": [],
   "source": []
  },
  {
   "cell_type": "code",
   "execution_count": null,
   "metadata": {},
   "outputs": [],
   "source": []
  },
  {
   "cell_type": "code",
   "execution_count": null,
   "metadata": {},
   "outputs": [],
   "source": []
  },
  {
   "cell_type": "code",
   "execution_count": null,
   "metadata": {},
   "outputs": [],
   "source": []
  },
  {
   "cell_type": "code",
   "execution_count": null,
   "metadata": {},
   "outputs": [],
   "source": []
  }
 ],
 "metadata": {
  "kernelspec": {
   "display_name": "env_tf",
   "language": "python",
   "name": "python3"
  },
  "language_info": {
   "codemirror_mode": {
    "name": "ipython",
    "version": 3
   },
   "file_extension": ".py",
   "mimetype": "text/x-python",
   "name": "python",
   "nbconvert_exporter": "python",
   "pygments_lexer": "ipython3",
   "version": "3.9.9"
  }
 },
 "nbformat": 4,
 "nbformat_minor": 2
}
