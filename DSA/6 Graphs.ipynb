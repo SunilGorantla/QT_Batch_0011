{
 "cells": [
  {
   "cell_type": "markdown",
   "metadata": {},
   "source": [
    "# Graphs\n",
    "A Graph 𝐺 = (𝑉,𝐸) is made up made of a set of vertices 𝑉=𝑣1,𝑣2,𝑣3... and edges 𝐸=𝑒1,𝑒2,𝑒3.... Each edge in 𝐸 defines a connection between (𝑢,𝑣), where 𝑢,𝑣 ∈ 𝑉 <br>\n",
    "\n",
    "Basically this means that a graph is made up of vertices and edges. Each edge connects two of the vertices together. A graph is represented visually as follows\n",
    "\n",
    "<img src=\"Images/graph.png\" width=\"600\" height=\"300\">"
   ]
  },
  {
   "cell_type": "code",
   "execution_count": null,
   "metadata": {},
   "outputs": [],
   "source": []
  }
 ],
 "metadata": {
  "language_info": {
   "name": "python"
  }
 },
 "nbformat": 4,
 "nbformat_minor": 2
}
