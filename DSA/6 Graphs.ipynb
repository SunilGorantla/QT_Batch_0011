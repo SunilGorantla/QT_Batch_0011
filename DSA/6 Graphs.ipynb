{
 "cells": [
  {
   "cell_type": "markdown",
   "metadata": {},
   "source": [
    "# Graphs\n",
    "A Graph 𝐺 = (𝑉,𝐸) is made up made of a set of vertices 𝑉=𝑣1,𝑣2,𝑣3... and edges 𝐸=𝑒1,𝑒2,𝑒3.... Each edge in 𝐸 defines a connection between (𝑢,𝑣), where 𝑢,𝑣 ∈ 𝑉 <br>\n",
    "\n",
    "Basically this means that a graph is made up of vertices and edges. Each edge connects two of the vertices together. A graph is represented visually as follows\n",
    "\n",
    "<img src=\"Images/graph.png\" width=\"500\" height=\"250\">"
   ]
  },
  {
   "cell_type": "code",
   "execution_count": 11,
   "metadata": {},
   "outputs": [],
   "source": [
    "# Data structures to handle graphs\n",
    "cities = ['A','B','C','D','E','F']\n",
    "Edges = [['D','E', 20], ['E','F', 50]]\n",
    "\n",
    "\n",
    "class city:\n",
    "    def __init__(self, city_name, airport_name, pincode):\n",
    "        self.city = city_name\n",
    "        self.airport = airport_name\n",
    "        self.pincode = pincode\n",
    "    \n",
    "class edge:\n",
    "    def __init__(self, parent_node, child_node, relationship):\n",
    "        self.parent = parent_node\n",
    "        self.child = child_node\n",
    "        self.relationship = relationship\n",
    "\n",
    "hyd = city('Hyderabad', 'RGIA', 50000)\n",
    "Bng = city('Bangalore', 'KIA', 560000)\n",
    "Mum = city('Mumbai', 'CSIA', 400000)\n",
    "\n",
    "\n",
    "class graph:\n",
    "    def __init__(self):\n",
    "        self.nodes = []\n",
    "        self.edges = []\n",
    "    \n",
    "    def add_edge(self, relationship):\n",
    "        # Solve Duplicates issue of edges\n",
    "        already_exsists = False\n",
    "        for i in self.edges:\n",
    "            if i.parent.city == relationship.parent.city and i.child.city == relationship.child.city:\n",
    "                i.relationship = relationship.relationship\n",
    "                already_exsists = True\n",
    "        if not already_exsists:\n",
    "            self.nodes.append(relationship.parent)\n",
    "            self.nodes.append(relationship.child)\n",
    "            self.edges.append(relationship)\n",
    "\n",
    "    def compute_time_taken(self, node1, node2):\n",
    "        for i in self.edges:\n",
    "            if i.parent.city == node1.city and i.child.city == node2.city:\n",
    "                print(f\"The time taken to travel from {node1.city} to {node2.city} is {i.relationship}\")\n",
    "\n",
    "\n",
    "g = graph()\n",
    "e1 = edge(hyd, Mum, 2)\n",
    "e5 = edge(hyd, Mum, 5)\n",
    "e2 = edge(Mum, hyd, 1.5)\n",
    "e3 = edge(Mum,Bng, 3)\n",
    "\n",
    "g.add_edge(e1)\n",
    "g.add_edge(e2)\n",
    "g.add_edge(e3)\n",
    "g.add_edge(e5)\n"
   ]
  },
  {
   "cell_type": "markdown",
   "metadata": {},
   "source": [
    "# Terminologies\n",
    "\n",
    "1. Paths: A path in a graph is a finite or infinite set of edges which joins a set of vertices. It can connect to 2 or more nodes. Also, if the path connects all the nodes of a graph in Data Structure, then it is a connected graph, otherwise it is called a disconnected graph. There may or may not be path to each and every node of graph. In case, there is no path to any node, then that node becomes an isolated node.<br>\n",
    "<img src=\"Images/graph_path.png\" width=200 height=200>\n",
    "\n",
    "2. Closed Path: A path is called as closed path if the initial node is same as terminal(end) node. A path will be closed path if the starting node is the last node.<br>\n",
    "<img src=\"Images/closed_path.png\" width=200 height=200>\n",
    "3. Simple Path: A path that does not repeat any nodes(vertices) is called a simple path. <br>\n",
    "<img src=\"Images/simple path.png\" width=200 height=200>\n",
    "4. Degree: of a node is the number of edges connecting the node in the graph. A simple example would be, suppose in facebook, if you have 100 friends then the node that represents you has a degree of 100.\n",
    "\n",
    "6. Complete Graph: In a complete graph, there is an edge between every single pair of node in the graph. Here, every vertex has an edge to all other vertices. It is also known as a full graph.<br>\n",
    "<img src=\"Images/connected graph.png\" width=200 height=200>\n",
    "7. Weighted Graph: In weighted graphs, each edge has a value associated with them (called weight). It refers to a simple graph that has weighted edges. The weights are usually used to compute the shortest path in the graph.<br>\n",
    "<img src=\"Images/weighted graph.png\" width=200 height=200>\n",
    "8. Loop: A loop (also called a self-loop) is an edge that connects a vertex to itself. It is commonly defined as an edge with both ends as the same vertex. <br>\n",
    "<img src=\"Images/loop.png\" width=200 height=200>"
   ]
  },
  {
   "cell_type": "markdown",
   "metadata": {},
   "source": [
    "## Types of Graph\n",
    "1. Directed Graphs\n",
    "Directed graphs in graph data structure are the graphs where the edges have directions from one node towards the other node. In Directed Graphs, we can only traverse from one node to another if the edge have a direction pointing to that node. <br>\n",
    "<img src=\"Images/directional graph.png\" width=200 height=200>\n",
    "2. Undirected Graphs\n",
    "Undirected graphs have edges that do not have a direction. Hence, the graph can be traversed in either direction.<br>\n",
    "<img src=\"Images/undirectional graph.png\" width=200 height=200>\n"
   ]
  },
  {
   "cell_type": "markdown",
   "metadata": {},
   "source": [
    "# Identify the graph\n",
    "<img src=\"Images/wg.png\" >"
   ]
  },
  {
   "cell_type": "markdown",
   "metadata": {},
   "source": [
    "# Implementation of Graphs and search algorithms"
   ]
  },
  {
   "cell_type": "code",
   "execution_count": null,
   "metadata": {},
   "outputs": [],
   "source": []
  },
  {
   "cell_type": "code",
   "execution_count": null,
   "metadata": {},
   "outputs": [],
   "source": [
    "class Graph:\n",
    "    def __init__(self):\n",
    "        self.graph = {}\n",
    "\n",
    "    def add_edge(self, u, v, time):\n",
    "        if u not in self.graph:\n",
    "            self.graph[u] = []\n",
    "        self.graph[u].append((v, time))\n",
    "        \n",
    "g = Graph()\n",
    "g.add_edge(\"City A\", \"City B\", 2)\n",
    "g.add_edge(\"City A\", \"City C\", 4)\n",
    "g.add_edge(\"City B\", \"City C\", 1)\n",
    "g.add_edge(\"City B\", \"City D\", 7)\n",
    "g.add_edge(\"City C\", \"City D\", 3)\n",
    "g.add_edge(\"City C\", \"City E\", 5)\n",
    "g.add_edge(\"City D\", \"City E\", 1)"
   ]
  },
  {
   "cell_type": "code",
   "execution_count": null,
   "metadata": {},
   "outputs": [],
   "source": [
    "graph1 = {'City A': [('City B', 2), ('City C', 4)],\n",
    " 'City B': [('City C', 1), ('City D', 7)],\n",
    " 'City C': [('City D', 3), ('City E', 5)],\n",
    " 'City D': [('City E', 1)]}\n",
    "\n",
    "# Iteration 0\n",
    "visited = {}\n",
    "queue = ['City A', 0, ['City A']]\n",
    "\n",
    "# Iteration 1\n",
    "queue = []\n",
    "# For loops iteration 1\n",
    "queue = [('City B', 2, ['City A', 'City B'])]\n",
    "visited = {'City A', 'City B'}\n",
    "\n",
    "# For loops iteration 2\n",
    "queue = [('City B', 2, ['City A', 'City B']), ('City C', 4, ['City A', 'City C'])]\n",
    "visited = {'City A', 'City B', 'City C'}\n",
    "\n",
    "# Iteration 2\n",
    "queue = [('City B', 2, ['City A', 'City B'])]\n",
    "\n",
    "city, cumulative_time, path = 'City C', 4, [\"City A\", \"City C\"]\n",
    "# For loops iteration 1\n",
    "queue = [('City B', 2, ['City A', 'City B']), ('City D', 5, ['City A', 'City C', 'City D'])]\n",
    "visited =  {'City A', 'City B', 'City C', 'City D'}\n",
    "\n",
    "# For loops iteration 1\n",
    "queue = [('City B', 2, ['City A', 'City B']), ('City D', 5, ['City A', 'City C', 'City D'])]\n",
    "visited =  {'City A', 'City B', 'City C', 'City D'}\n",
    "\n"
   ]
  },
  {
   "cell_type": "code",
   "execution_count": 37,
   "metadata": {},
   "outputs": [
    {
     "data": {
      "text/plain": [
       "[(8, 'E', 21), (0, 'C', 51), (7, 'D', 58), (4, 'A', 81), (2, 'B', 92)]"
      ]
     },
     "execution_count": 37,
     "metadata": {},
     "output_type": "execute_result"
    }
   ],
   "source": [
    "l = [(4,'A',81), (2,'B',92), (0,'C',51), (7,'D',58), (8,'E',21)]\n",
    "\n",
    "l.sort(key = lambda x:x[2])\n",
    "l"
   ]
  },
  {
   "cell_type": "markdown",
   "metadata": {},
   "source": [
    "While loop Iteratin 1:\n",
    "priority_queue = [(0, 'City A', ['City A'])] \n",
    "visited = {}\n",
    "cumulative_time, city, path = 0, 'City A' , ['City A']\n",
    "priority_queue = []\n",
    "visited = {'City A'}\n",
    "\n",
    "for iteration 1\n",
    "priority_queue = [(2, 'City B', ['City A', 'City B'])]\n",
    "for iteration 2\n",
    "priority_queue = [(2, 'City B', ['City A', 'City B']), (4, 'City C', ['City A', 'City C'])]\n",
    "\n",
    "While loop Iteratin 1:\n",
    "cumulative_time, city, path = 2, 'City B' , ['City A', 'City B']\n",
    "priority_queue = [(4, 'City C', ['City A', 'City C'])]\n",
    "for iteration 1\n",
    "priority_queue = [(4, 'City C', ['City A', 'City C']), (7, 'City D', ['City A', 'City B', 'City D'])]\n",
    "\n",
    "While loop Iteratin 3:\n",
    "cumulative_time, city, path = 4, 'City C' , ['City A', 'City C']\n",
    "priority_queue = [(7, 'City D', ['City A', 'City B', 'City D'])]\n",
    "for iteration 1\n",
    "priority_queue = [(7, 'City D', ['City A', 'City B', 'City D']), (7, 'City D', ['City A', 'City C', 'City D'])]\n"
   ]
  },
  {
   "cell_type": "code",
   "execution_count": null,
   "metadata": {},
   "outputs": [],
   "source": [
    "def dijkstra(self, start, end):\n",
    "    priority_queue = [(0, start, [start])]\n",
    "    visited = set()\n",
    "    while priority_queue:\n",
    "        # Sort the priority queue to get the element with the smallest cumulative_time\n",
    "        priority_queue.sort(key=lambda x: x[0])\n",
    "        cumulative_time, city, path = priority_queue.pop(0)\n",
    "        if city in visited:\n",
    "            continue\n",
    "        print(f\"Visited {city} with cumulative time {cumulative_time}. Path: {' -> '.join(path)}\")\n",
    "        visited.add(city)\n",
    "        if city == end:\n",
    "            return cumulative_time, path\n",
    "        for neighbour, time in self.graph[city]:\n",
    "            if neighbour not in visited:\n",
    "                priority_queue.append((cumulative_time + time, neighbour, path + [neighbour]))\n",
    "    return None, []\n"
   ]
  },
  {
   "cell_type": "code",
   "execution_count": 33,
   "metadata": {},
   "outputs": [
    {
     "name": "stdout",
     "output_type": "stream",
     "text": [
      "Breadth-First Search:\n",
      "Visited City A with cumulative time 0. Path: City A\n",
      "Visited City B with cumulative time 2. Path: City A -> City B\n",
      "Visited City C with cumulative time 4. Path: City A -> City C\n",
      "Visited City D with cumulative time 9. Path: City A -> City B -> City D\n",
      "Visited City E with cumulative time 9. Path: City A -> City C -> City E\n",
      "Time taken to move from City A to City E is 9 hours.\n",
      "Path: City A -> City C -> City E\n",
      "\n",
      "Depth-First Search:\n",
      "Visited City A with cumulative time 0. Path: City A\n",
      "Visited City C with cumulative time 4. Path: City A -> City C\n",
      "Visited City E with cumulative time 9. Path: City A -> City C -> City E\n",
      "Time taken to move from City A to City E is 9 hours.\n",
      "Path: City A -> City C -> City E\n",
      "\n",
      "Dijkstra's Algorithm:\n",
      "Visited City A with cumulative time 0. Path: City A\n",
      "Visited City B with cumulative time 2. Path: City A -> City B\n",
      "Visited City C with cumulative time 3. Path: City A -> City B -> City C\n",
      "Visited City D with cumulative time 6. Path: City A -> City B -> City C -> City D\n",
      "Visited City E with cumulative time 7. Path: City A -> City B -> City C -> City D -> City E\n",
      "Time taken to move from City A to City E is 7 hours.\n",
      "Path: City A -> City B -> City C -> City D -> City E\n"
     ]
    }
   ],
   "source": [
    "class Graph:\n",
    "    def __init__(self):\n",
    "        self.graph = {}\n",
    "\n",
    "    def add_edge(self, u, v, time):\n",
    "        if u not in self.graph:\n",
    "            self.graph[u] = []\n",
    "        self.graph[u].append((v, time))\n",
    "\n",
    "    def bfs(self, start, end): # start = City A, and end = City E\n",
    "        visited = set()\n",
    "        queue = [(start, 0, [start])]  # Queue stores tuples of (city, cumulative_time, path)\n",
    "        visited.add(start)\n",
    "\n",
    "        while queue:\n",
    "            city, cumulative_time, path = queue.pop(0)\n",
    "            print(f\"Visited {city} with cumulative time {cumulative_time}. Path: {' -> '.join(path)}\")\n",
    "\n",
    "            if city == end:\n",
    "                return cumulative_time, path\n",
    "\n",
    "            for neighbour, time in self.graph[city]:    # [('City B', 2), ('City C', 4)]\n",
    "                if neighbour not in visited:\n",
    "                    queue.append((neighbour, cumulative_time + time, path + [neighbour]))\n",
    "                    visited.add(neighbour)\n",
    "        \n",
    "        return None, [] \n",
    "\n",
    "    def dfs(self, start, end):\n",
    "        visited = set()\n",
    "        stack = [(start, 0, [start])]  # Stack stores tuples of (city, cumulative_time, path)\n",
    "        visited.add(start)\n",
    "        while stack:\n",
    "            city, cumulative_time, path = stack.pop()\n",
    "            print(f\"Visited {city} with cumulative time {cumulative_time}. Path: {' -> '.join(path)}\")\n",
    "            if city == end:\n",
    "                return cumulative_time, path\n",
    "            for neighbour, time in self.graph[city]:\n",
    "                if neighbour not in visited:\n",
    "                    stack.append((neighbour, cumulative_time + time, path + [neighbour]))\n",
    "                    visited.add(neighbour)\n",
    "        return None, []\n",
    "\n",
    "    def dijkstra(self, start, end):\n",
    "        priority_queue = [(0, start, [start])]\n",
    "        visited = set()\n",
    "        while priority_queue:\n",
    "            # Sort the priority queue to get the element with the smallest cumulative_time\n",
    "            priority_queue.sort(key=lambda x: x[0])\n",
    "            cumulative_time, city, path = priority_queue.pop(0)\n",
    "            if city in visited:\n",
    "                continue\n",
    "            print(f\"Visited {city} with cumulative time {cumulative_time}. Path: {' -> '.join(path)}\")\n",
    "            visited.add(city)\n",
    "            if city == end:\n",
    "                return cumulative_time, path\n",
    "            for neighbour, time in self.graph[city]:\n",
    "                if neighbour not in visited:\n",
    "                    priority_queue.append((cumulative_time + time, neighbour, path + [neighbour]))\n",
    "        return None, []\n",
    "\n",
    "g = Graph()\n",
    "g.add_edge(\"City A\", \"City B\", 2)\n",
    "g.add_edge(\"City A\", \"City C\", 4)\n",
    "g.add_edge(\"City B\", \"City C\", 1)\n",
    "g.add_edge(\"City B\", \"City D\", 7)\n",
    "g.add_edge(\"City C\", \"City D\", 3)\n",
    "g.add_edge(\"City C\", \"City E\", 5)\n",
    "g.add_edge(\"City D\", \"City E\", 1)\n",
    "\n",
    "start_city = \"City A\"\n",
    "end_city = \"City E\"\n",
    "\n",
    "print(\"Breadth-First Search:\")\n",
    "time_taken, path = g.bfs(start_city, end_city)\n",
    "if time_taken is not None:\n",
    "    print(f\"Time taken to move from {start_city} to {end_city} is {time_taken} hours.\")\n",
    "    print(f\"Path: {' -> '.join(path)}\")\n",
    "else:\n",
    "    print(f\"There is no path from {start_city} to {end_city}.\")\n",
    "\n",
    "print(\"\\nDepth-First Search:\")\n",
    "time_taken, path = g.dfs(start_city, end_city)\n",
    "if time_taken is not None:\n",
    "    print(f\"Time taken to move from {start_city} to {end_city} is {time_taken} hours.\")\n",
    "    print(f\"Path: {' -> '.join(path)}\")\n",
    "else:\n",
    "    print(f\"There is no path from {start_city} to {end_city}.\")\n",
    "\n",
    "print(\"\\nDijkstra's Algorithm:\")\n",
    "time_taken, path = g.dijkstra(start_city, end_city)\n",
    "if time_taken is not None:\n",
    "    print(f\"Time taken to move from {start_city} to {end_city} is {time_taken} hours.\")\n",
    "    print(f\"Path: {' -> '.join(path)}\")\n",
    "else:\n",
    "    print(f\"There is no path from {start_city} to {end_city}.\")\n"
   ]
  },
  {
   "cell_type": "code",
   "execution_count": 31,
   "metadata": {},
   "outputs": [
    {
     "data": {
      "text/plain": [
       "1"
      ]
     },
     "execution_count": 31,
     "metadata": {},
     "output_type": "execute_result"
    }
   ],
   "source": [
    "l = [1,2,3]\n",
    "l.pop()"
   ]
  },
  {
   "cell_type": "code",
   "execution_count": 32,
   "metadata": {},
   "outputs": [
    {
     "data": {
      "text/plain": [
       "[2, 3]"
      ]
     },
     "execution_count": 32,
     "metadata": {},
     "output_type": "execute_result"
    }
   ],
   "source": [
    "l"
   ]
  },
  {
   "cell_type": "code",
   "execution_count": null,
   "metadata": {},
   "outputs": [],
   "source": []
  }
 ],
 "metadata": {
  "kernelspec": {
   "display_name": "env_tf",
   "language": "python",
   "name": "python3"
  },
  "language_info": {
   "codemirror_mode": {
    "name": "ipython",
    "version": 3
   },
   "file_extension": ".py",
   "mimetype": "text/x-python",
   "name": "python",
   "nbconvert_exporter": "python",
   "pygments_lexer": "ipython3",
   "version": "3.9.9"
  }
 },
 "nbformat": 4,
 "nbformat_minor": 2
}
