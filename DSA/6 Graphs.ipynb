{
 "cells": [
  {
   "cell_type": "markdown",
   "metadata": {},
   "source": [
    "# Graphs\n",
    "A Graph 𝐺 = (𝑉,𝐸) is made up made of a set of vertices 𝑉=𝑣1,𝑣2,𝑣3... and edges 𝐸=𝑒1,𝑒2,𝑒3.... Each edge in 𝐸 defines a connection between (𝑢,𝑣), where 𝑢,𝑣 ∈ 𝑉 <br>\n",
    "\n",
    "Basically this means that a graph is made up of vertices and edges. Each edge connects two of the vertices together. A graph is represented visually as follows\n",
    "\n",
    "<img src=\"Images/graph.png\" width=\"500\" height=\"250\">"
   ]
  },
  {
   "cell_type": "code",
   "execution_count": 11,
   "metadata": {},
   "outputs": [],
   "source": [
    "# Data structures to handle graphs\n",
    "cities = ['A','B','C','D','E','F']\n",
    "Edges = [['D','E', 20], ['E','F', 50]]\n",
    "\n",
    "\n",
    "class city:\n",
    "    def __init__(self, city_name, airport_name, pincode):\n",
    "        self.city = city_name\n",
    "        self.airport = airport_name\n",
    "        self.pincode = pincode\n",
    "    \n",
    "class edge:\n",
    "    def __init__(self, parent_node, child_node, relationship):\n",
    "        self.parent = parent_node\n",
    "        self.child = child_node\n",
    "        self.relationship = relationship\n",
    "\n",
    "hyd = city('Hyderabad', 'RGIA', 50000)\n",
    "Bng = city('Bangalore', 'KIA', 560000)\n",
    "Mum = city('Mumbai', 'CSIA', 400000)\n",
    "\n",
    "\n",
    "class graph:\n",
    "    def __init__(self):\n",
    "        self.nodes = []\n",
    "        self.edges = []\n",
    "    \n",
    "    def add_edge(self, relationship):\n",
    "        # Solve Duplicates issue of edges\n",
    "        already_exsists = False\n",
    "        for i in self.edges:\n",
    "            if i.parent.city == relationship.parent.city and i.child.city == relationship.child.city:\n",
    "                i.relationship = relationship.relationship\n",
    "                already_exsists = True\n",
    "        if not already_exsists:\n",
    "            self.nodes.append(relationship.parent)\n",
    "            self.nodes.append(relationship.child)\n",
    "            self.edges.append(relationship)\n",
    "\n",
    "    def compute_time_taken(self, node1, node2):\n",
    "        for i in self.edges:\n",
    "            if i.parent.city == node1.city and i.child.city == node2.city:\n",
    "                print(f\"The time taken to travel from {node1.city} to {node2.city} is {i.relationship}\")\n",
    "\n",
    "\n",
    "g = graph()\n",
    "e1 = edge(hyd, Mum, 2)\n",
    "e5 = edge(hyd, Mum, 5)\n",
    "e2 = edge(Mum, hyd, 1.5)\n",
    "e3 = edge(Mum,Bng, 3)\n",
    "\n",
    "g.add_edge(e1)\n",
    "g.add_edge(e2)\n",
    "g.add_edge(e3)\n",
    "g.add_edge(e5)\n"
   ]
  },
  {
   "cell_type": "code",
   "execution_count": 7,
   "metadata": {},
   "outputs": [
    {
     "data": {
      "text/plain": [
       "2"
      ]
     },
     "execution_count": 7,
     "metadata": {},
     "output_type": "execute_result"
    }
   ],
   "source": [
    "e1.relationship"
   ]
  },
  {
   "cell_type": "code",
   "execution_count": 13,
   "metadata": {},
   "outputs": [],
   "source": [
    "g.compute_time_taken(hyd, Bng)"
   ]
  },
  {
   "cell_type": "code",
   "execution_count": null,
   "metadata": {},
   "outputs": [],
   "source": []
  }
 ],
 "metadata": {
  "kernelspec": {
   "display_name": "env_tf",
   "language": "python",
   "name": "python3"
  },
  "language_info": {
   "codemirror_mode": {
    "name": "ipython",
    "version": 3
   },
   "file_extension": ".py",
   "mimetype": "text/x-python",
   "name": "python",
   "nbconvert_exporter": "python",
   "pygments_lexer": "ipython3",
   "version": "3.9.9"
  }
 },
 "nbformat": 4,
 "nbformat_minor": 2
}
