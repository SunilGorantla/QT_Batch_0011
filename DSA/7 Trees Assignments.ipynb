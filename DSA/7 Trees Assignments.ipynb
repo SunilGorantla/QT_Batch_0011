{
 "cells": [
  {
   "cell_type": "markdown",
   "metadata": {},
   "source": [
    "# Question 1:\n",
    "\n",
    "ABC Bank has +1,000 employees. The Human Resources department wants to know the chain of command for each employee.\n",
    "\n",
    "\n",
    "1. Produce the code which will take an employee ID as input and produce all their managers up the hierarchy, with the identifier of each manager. For example, if the organizational chart looks like:<br>\n",
    "<img src=\"Images/q2.png\" width=\"450\" height=\"300\">\n",
    "\n",
    "\n",
    "Then for input employee ID 6, the output would be employee ID 3, 1 <br>\n",
    "<img src=\"Images/q1.png\" width=\"400\" height=\"300\">\n",
    "\n",
    "\n",
    "\n",
    "2. Produce the code which will take an employee ID as input and produce all employees underneath their manager, including the manager.\n",
    "For the sample above:\n",
    "    - 6 would result in 3, 5, 6\n",
    "    - 3 would result in 1, 2, 3, 4, 5, 6\n",
    "    - 4 would result in 2, 4  \n"
   ]
  },
  {
   "cell_type": "markdown",
   "metadata": {},
   "source": []
  }
 ],
 "metadata": {
  "language_info": {
   "name": "python"
  }
 },
 "nbformat": 4,
 "nbformat_minor": 2
}
