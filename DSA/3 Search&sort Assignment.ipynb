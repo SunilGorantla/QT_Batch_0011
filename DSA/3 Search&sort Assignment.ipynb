{
 "cells": [
  {
   "cell_type": "code",
   "execution_count": 22,
   "metadata": {},
   "outputs": [
    {
     "data": {
      "text/plain": [
       "[0,\n",
       " 1,\n",
       " 2,\n",
       " 3,\n",
       " 4,\n",
       " 5,\n",
       " 7,\n",
       " 8,\n",
       " 9,\n",
       " 17,\n",
       " 21,\n",
       " 25,\n",
       " 26,\n",
       " 33,\n",
       " 36,\n",
       " 38,\n",
       " 44,\n",
       " 48,\n",
       " 51,\n",
       " 57,\n",
       " 99,\n",
       " 100]"
      ]
     },
     "execution_count": 22,
     "metadata": {},
     "output_type": "execute_result"
    }
   ],
   "source": [
    "# Given two sorted arrays write a python program to merge the two arrays together and return a single sorted array\n",
    "\n",
    "arr1 = [0, 1, 2, 3, 5, 9, 17, 38, 57] # length = m\n",
    "arr2 = [4, 7, 8, 21, 25, 26, 33, 36, 44, 48, 51, 99, 100] # length = n\n",
    "# Expected output: [0,1,2,3,4,5,7,8,9,17,21,25,26,33,38,44,57]\n",
    "def merge_arrays(arr1, arr2):\n",
    "    i,j = 0, 0\n",
    "    new_arr = []\n",
    "    while i < len(arr1) and j < len(arr2):\n",
    "        if arr1[i] < arr2[j]:\n",
    "            new_arr.append(arr1[i])\n",
    "            i += 1\n",
    "        else:\n",
    "            new_arr.append(arr2[j])\n",
    "            j += 1\n",
    "    new_arr.extend(arr1[i:])\n",
    "    new_arr.extend(arr2[j:])\n",
    "            \n",
    "    return  new_arr\n",
    "merge_arrays(arr1, arr2)\n"
   ]
  },
  {
   "cell_type": "markdown",
   "metadata": {},
   "source": [
    "Given an array nums of integers, return how many of them contain an even number of digits.\n",
    "\n",
    " \n",
    "\n",
    "Example 1:\n",
    "\n",
    "Input: nums = [12,345,2,6,7896] <br>\n",
    "Output: 2 <br>\n",
    "Explanation: <br>\n",
    "12 contains 2 digits (even number of digits). <br>\n",
    "345 contains 3 digits (odd number of digits). <br>\n",
    "2 contains 1 digit (odd number of digits). <br>\n",
    "6 contains 1 digit (odd number of digits). <br>\n",
    "7896 contains 4 digits (even number of digits). <br>\n",
    "Therefore only 12 and 7896 contain an even number of digits."
   ]
  }
 ],
 "metadata": {
  "kernelspec": {
   "display_name": "env_tf",
   "language": "python",
   "name": "python3"
  },
  "language_info": {
   "codemirror_mode": {
    "name": "ipython",
    "version": 3
   },
   "file_extension": ".py",
   "mimetype": "text/x-python",
   "name": "python",
   "nbconvert_exporter": "python",
   "pygments_lexer": "ipython3",
   "version": "3.9.9"
  }
 },
 "nbformat": 4,
 "nbformat_minor": 2
}
