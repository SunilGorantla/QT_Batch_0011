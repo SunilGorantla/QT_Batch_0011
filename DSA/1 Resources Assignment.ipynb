{
 "cells": [
  {
   "cell_type": "markdown",
   "metadata": {},
   "source": [
    "# Question 1: 3 Numbers Sum\n",
    "\n",
    "Given a array with integers numbers arr and x, return a triplet (i,j,k) such that i+j+k = x\n",
    "\n",
    "## Example\n",
    "* **Input:** arr = [-1,0,1,2,-1,4], x = 6\n",
    "* **Output:** triplet (0, 2, 4)\n",
    "\n",
    "1. What are the best case and worst case senarios.\n",
    "2. Compute the time complexity of your solution\n"
   ]
  },
  {
   "cell_type": "markdown",
   "metadata": {},
   "source": [
    "# Question 2: Kth Largest Element in an Array\n",
    "\n",
    "Given an integer array nums and an integer k, return the kth largest element in the array. Note that it is the kth largest element in the sorted order, not the kth distinct element.\n",
    "\n",
    "## Example 1:\n",
    "\n",
    "* **Input**: nums = [3,2,1,5,6,4], k = 2\n",
    "* **Output**: 5\n",
    "\n",
    "1. Can you solve it without sorting?\n",
    "2. What are the best case and worst case senarios.\n",
    "3. Compute the time complexity of your solution"
   ]
  },
  {
   "cell_type": "markdown",
   "metadata": {},
   "source": [
    "# Question 3: WAVE ARRAY\n",
    "Given a sorted array arr[] of distinct integers. Sort the array into a wave-like array and return it In other words, arrange the elements into a sequence such that arr[1] >= arr[2] <= arr[3] >= arr[4] <= arr[5].....\n",
    "\n",
    "## Example 1:\n",
    "* **Input** : n = 5, arr = [1,2,3,4,5]\n",
    "* **Output** : 2 1 4 3 5\n",
    "\n",
    "Explanation: Array elements after sorting it in wave form are 2 1 4 3 5.\n",
    "\n",
    "## Example 2:\n",
    "* **Input**: n = 6 arr = [2,4,7,8,9,10] \n",
    "* **Output**: 4 2 8 7 10 9\n",
    "\n",
    "Explanation: Array elements after sorting it in wave form are 4 2 8 7 10 9.\n",
    "\n",
    "\n",
    "1. What are the best case and worst case senarios.\n",
    "2. Compute the time complexity of your solution\n",
    "\n"
   ]
  },
  {
   "cell_type": "code",
   "execution_count": null,
   "metadata": {},
   "outputs": [],
   "source": []
  }
 ],
 "metadata": {
  "language_info": {
   "name": "python"
  }
 },
 "nbformat": 4,
 "nbformat_minor": 2
}
