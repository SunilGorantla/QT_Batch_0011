{
 "cells": [
  {
   "cell_type": "markdown",
   "metadata": {},
   "source": [
    "# Heaps are a special case of tree where the parent node will either always be greater than or always less than its child nodes.\n",
    "\n",
    "## Min Heap\n",
    "\n",
    "## Max Heap\n",
    "\n",
    "\n",
    "Really efficient in sorting"
   ]
  },
  {
   "cell_type": "code",
   "execution_count": 9,
   "metadata": {},
   "outputs": [
    {
     "name": "stdout",
     "output_type": "stream",
     "text": [
      "3\n",
      "7\n",
      "1\n"
     ]
    }
   ],
   "source": [
    "\n",
    "print(level)\n",
    "print(covered_numbers)\n",
    "position  = index - covered_numbers\n",
    "print(position)"
   ]
  },
  {
   "cell_type": "code",
   "execution_count": null,
   "metadata": {},
   "outputs": [],
   "source": [
    "class min_heap:\n",
    "    def __init__(self):\n",
    "        self.tree = []\n",
    "\n",
    "    def insert(self):\n",
    "        pass\n",
    "\n",
    "index = 8\n",
    "covered_numbers = 0\n",
    "for level in range(0, 10):\n",
    "    elements_in_level = 2**(level)\n",
    "    if covered_numbers + elements_in_level > index:\n",
    "        break\n",
    "    else:\n",
    "        covered_numbers += elements_in_level\n",
    "tree = min_heap()\n",
    "# 6, 8, 19, 1, 3, 21, 17, 28\n",
    "tree.insert(6)\n",
    "tree.insert(8)\n",
    "tree.insert(19)\n",
    "tree.insert(1)\n",
    "tree.insert(3)\n",
    "tree.insert(21)\n",
    "tree.insert(17)\n",
    "tree.insert(28)"
   ]
  },
  {
   "cell_type": "code",
   "execution_count": null,
   "metadata": {},
   "outputs": [],
   "source": []
  },
  {
   "cell_type": "code",
   "execution_count": null,
   "metadata": {},
   "outputs": [],
   "source": []
  }
 ],
 "metadata": {
  "kernelspec": {
   "display_name": "env_tf",
   "language": "python",
   "name": "python3"
  },
  "language_info": {
   "codemirror_mode": {
    "name": "ipython",
    "version": 3
   },
   "file_extension": ".py",
   "mimetype": "text/x-python",
   "name": "python",
   "nbconvert_exporter": "python",
   "pygments_lexer": "ipython3",
   "version": "3.9.9"
  }
 },
 "nbformat": 4,
 "nbformat_minor": 2
}
