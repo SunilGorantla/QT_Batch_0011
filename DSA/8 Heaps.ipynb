{
 "cells": [
  {
   "cell_type": "markdown",
   "metadata": {},
   "source": [
    "# Heaps are a special case of tree where the parent node will either always be greater than or always less than its child nodes.\n",
    "\n",
    "## Min Heap\n",
    "\n",
    "## Max Heap\n",
    "\n",
    "\n",
    "Really efficient in sorting"
   ]
  },
  {
   "cell_type": "code",
   "execution_count": 9,
   "metadata": {},
   "outputs": [
    {
     "name": "stdout",
     "output_type": "stream",
     "text": [
      "3\n",
      "7\n",
      "1\n"
     ]
    }
   ],
   "source": [
    "\n",
    "print(level)\n",
    "print(covered_numbers)\n",
    "position  = index - covered_numbers\n",
    "print(position)"
   ]
  },
  {
   "cell_type": "code",
   "execution_count": null,
   "metadata": {},
   "outputs": [],
   "source": [
    "class min_heap:\n",
    "    def __init__(self):\n",
    "        self.tree = []\n",
    "\n",
    "    def insert(self):\n",
    "        pass\n",
    "\n",
    "index = 8\n",
    "covered_numbers = 0\n",
    "for level in range(0, 10):\n",
    "    elements_in_level = 2**(level)\n",
    "    if covered_numbers + elements_in_level > index:\n",
    "        break\n",
    "    else:\n",
    "        covered_numbers += elements_in_level\n",
    "tree = min_heap()\n",
    "# 6, 8, 19, 1, 3, 21, 17, 28\n",
    "tree.insert(6)\n",
    "tree.insert(8)\n",
    "tree.insert(19)\n",
    "tree.insert(1)\n",
    "tree.insert(3)\n",
    "tree.insert(21)\n",
    "tree.insert(17)\n",
    "tree.insert(28)"
   ]
  },
  {
   "cell_type": "code",
   "execution_count": null,
   "metadata": {},
   "outputs": [],
   "source": []
  },
  {
   "cell_type": "code",
   "execution_count": null,
   "metadata": {},
   "outputs": [],
   "source": [
    "# Min Heap Implementation\n",
    "\n",
    "class MinHeap:\n",
    "    def __init__(self):\n",
    "        self.heap = []\n",
    "\n",
    "    def _heapify_up(self, index):\n",
    "        parent_index = (index - 1) // 2\n",
    "        if index > 0 and self.heap[index] < self.heap[parent_index]:\n",
    "            self.heap[index], self.heap[parent_index] = self.heap[parent_index], self.heap[index]\n",
    "            self._heapify_up(parent_index)\n",
    "\n",
    "    def _heapify_down(self, index):\n",
    "        left_child_index = 2 * index + 1\n",
    "        right_child_index = 2 * index + 2\n",
    "        smallest = index\n",
    "\n",
    "        if left_child_index < len(self.heap) and self.heap[left_child_index] < self.heap[smallest]:\n",
    "            smallest = left_child_index\n",
    "        if right_child_index < len(self.heap) and self.heap[right_child_index] < self.heap[smallest]:\n",
    "            smallest = right_child_index\n",
    "\n",
    "        if smallest != index:\n",
    "            self.heap[index], self.heap[smallest] = self.heap[smallest], self.heap[index]\n",
    "            self._heapify_down(smallest)\n",
    "\n",
    "    def insert(self, value):\n",
    "        self.heap.append(value)\n",
    "        self._heapify_up(len(self.heap) - 1)\n",
    "\n",
    "    def delete_min(self):\n",
    "        if len(self.heap) == 0:\n",
    "            return None\n",
    "        if len(self.heap) == 1:\n",
    "            return self.heap.pop()\n",
    "        min_value = self.heap[0]\n",
    "        self.heap[0] = self.heap.pop()\n",
    "        self._heapify_down(0)\n",
    "        return min_value\n",
    "\n",
    "    def get_min(self):\n",
    "        if len(self.heap) == 0:\n",
    "            return None\n",
    "        return self.heap[0]\n",
    "\n",
    "    def __str__(self):\n",
    "        return str(self.heap)\n",
    "\n",
    "# Example usage:\n",
    "heap = MinHeap()\n",
    "heap.insert(10)\n",
    "heap.insert(5)\n",
    "heap.insert(14)\n",
    "heap.insert(9)\n",
    "heap.insert(2)\n",
    "print(\"Min Heap:\", heap)\n",
    "print(\"Min Value:\", heap.get_min())\n",
    "print(\"Deleted Min Value:\", heap.delete_min())\n",
    "print(\"Min Heap after deletion:\", heap)\n"
   ]
  }
 ],
 "metadata": {
  "kernelspec": {
   "display_name": "env_tf",
   "language": "python",
   "name": "python3"
  },
  "language_info": {
   "codemirror_mode": {
    "name": "ipython",
    "version": 3
   },
   "file_extension": ".py",
   "mimetype": "text/x-python",
   "name": "python",
   "nbconvert_exporter": "python",
   "pygments_lexer": "ipython3",
   "version": "3.9.9"
  }
 },
 "nbformat": 4,
 "nbformat_minor": 2
}
