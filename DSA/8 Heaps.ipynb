{
 "cells": [
  {
   "cell_type": "markdown",
   "metadata": {},
   "source": [
    "# Heaps are a special case of tree where the parent node will either always be greater than or always less than its child nodes.\n",
    "\n",
    "## Min Heap\n",
    "\n",
    "## Max Heap\n",
    "\n",
    "\n",
    "Really efficient in sorting"
   ]
  },
  {
   "cell_type": "code",
   "execution_count": null,
   "metadata": {},
   "outputs": [],
   "source": []
  }
 ],
 "metadata": {
  "language_info": {
   "name": "python"
  }
 },
 "nbformat": 4,
 "nbformat_minor": 2
}
