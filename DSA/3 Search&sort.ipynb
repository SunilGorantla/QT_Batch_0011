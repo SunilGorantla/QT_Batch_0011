{
 "cells": [
  {
   "cell_type": "markdown",
   "metadata": {},
   "source": [
    "# <p align=\"center\">Array Sorting Algorithms</p>"
   ]
  },
  {
   "cell_type": "markdown",
   "metadata": {},
   "source": [
    "# What is sorting?"
   ]
  },
  {
   "cell_type": "markdown",
   "metadata": {},
   "source": [
    "# Bubble Sort\n",
    "\n",
    "Bubble sort algorithm, also known as sinking sort, is the simplest sorting algorithm that runs through the list repeatedly, compares adjacent elements, and swaps them if they are out of order. \n",
    "\n",
    "<p align=\"center\"><img src=\"Images/bubble1.avif\"><p>"
   ]
  },
  {
   "cell_type": "markdown",
   "metadata": {},
   "source": [
    "# Insertion Sort\n",
    "\n",
    "Insertion sort is a simple sorting algorithm that works by building a sorted array one element at a time. It is considered an ” in-place ” sorting algorithm, meaning it doesn’t require any additional memory space beyond the original array.\n",
    "\n",
    "## Algorithm :\n",
    "\n",
    "1. We have to start with second element of the array as first element in the array is assumed to be sorted.\n",
    "2. Compare second element with the first element and check if the second element is smaller then swap them.\n",
    "3. Move to the third element and compare it with the second element, then the first element and swap as necessary to put it in the correct position among the first three elements.\n",
    "4. Continue this process, comparing each element with the ones before it and swapping as needed to place it in the correct position among the sorted elements.\n",
    "5. Repeat until the entire array is sorted.\n",
    "\n",
    "<p align=\"center\"><img src=\"Images/Insertion-Sort.webp\"><p>\n"
   ]
  },
  {
   "cell_type": "markdown",
   "metadata": {},
   "source": [
    "# Selection Sort\n",
    "The algorithm repeatedly selects the smallest (or largest) element from the unsorted portion of the list and swaps it with the first element of the unsorted part. This process is repeated for the remaining unsorted portion until the entire list is sorted. \n",
    "\n",
    "<p align=\"center\"><img src=\"Images/SelectionSort1.webp\"><p>\n",
    "<p align=\"center\"><img src=\"Images/SelectionSort2.webp\"><p>\n",
    "<p align=\"center\"><img src=\"Images/SelectionSort3.webp\"><p>"
   ]
  },
  {
   "cell_type": "markdown",
   "metadata": {},
   "source": [
    "# Merge Sort\n",
    "\n",
    "Merge sort is a sorting algorithm that follows the divide-and-conquer approach. It works by recursively dividing the input array into smaller subarrays and sorting those subarrays then merging them back together to obtain the sorted array.\n",
    "\n",
    "In simple terms, we can say that the process of merge sort is to divide the array into two halves, sort each half, and then merge the sorted halves back together. This process is repeated until the entire array is sorted.\n",
    "\n",
    "<p align=\"center\"><img src=\"Images/MergeSort.png\"><p>"
   ]
  },
  {
   "cell_type": "code",
   "execution_count": 1,
   "metadata": {},
   "outputs": [
    {
     "name": "stdout",
     "output_type": "stream",
     "text": [
      "[1, 2, 3, 7, 10, 14, 23, 44, 48, 57, 58, 65, 74]\n"
     ]
    }
   ],
   "source": [
    "# funtion to divide the lists in the two sublists  \n",
    "def merge_sort(list1, left_index, right_index):  \n",
    "    if left_index >= right_index:  \n",
    "        return  \n",
    "  \n",
    "    middle = (left_index + right_index)//2  \n",
    "    merge_sort(list1, left_index, middle)  \n",
    "    merge_sort(list1, middle + 1, right_index)  \n",
    "    merge(list1, left_index, right_index, middle)  \n",
    "  \n",
    "def merge(list1, left_index, right_index, middle):  \n",
    "  \n",
    "  \n",
    "   # Creating subparts of a lists  \n",
    "    left_sublist = list1[left_index:middle + 1]  \n",
    "    right_sublist = list1[middle+1:right_index+1]  \n",
    "  \n",
    "    # Initial values for variables that we use to keep  \n",
    "    # track of where we are in each list1  \n",
    "    left_sublist_index = 0  \n",
    "    right_sublist_index = 0  \n",
    "    sorted_index = left_index  \n",
    "  \n",
    "    # traverse both copies until we get run out one element  \n",
    "    while left_sublist_index < len(left_sublist) and right_sublist_index < len(right_sublist):  \n",
    "  \n",
    "        # If our left_sublist has the smaller element, put it in the sorted  \n",
    "        # part and then move forward in left_sublist (by increasing the pointer)  \n",
    "        if left_sublist[left_sublist_index] <= right_sublist[right_sublist_index]:  \n",
    "            list1[sorted_index] = left_sublist[left_sublist_index]  \n",
    "            left_sublist_index = left_sublist_index + 1  \n",
    "        # Otherwise add it into the right sublist  \n",
    "        else:  \n",
    "            list1[sorted_index] = right_sublist[right_sublist_index]  \n",
    "            right_sublist_index = right_sublist_index + 1  \n",
    "  \n",
    "  \n",
    "        # move forward in the sorted part  \n",
    "        sorted_index = sorted_index + 1  \n",
    "  \n",
    "       \n",
    "    # we will go through the remaining elements and add them  \n",
    "    while left_sublist_index < len(left_sublist):  \n",
    "        list1[sorted_index] = left_sublist[left_sublist_index]  \n",
    "        left_sublist_index = left_sublist_index + 1  \n",
    "        sorted_index = sorted_index + 1  \n",
    "  \n",
    "    while right_sublist_index < len(right_sublist):  \n",
    "        list1[sorted_index] = right_sublist[right_sublist_index]  \n",
    "        right_sublist_index = right_sublist_index + 1  \n",
    "        sorted_index = sorted_index + 1  \n",
    "  \n",
    "list1 = [44, 65, 2, 3, 58, 14, 57, 23, 10, 1, 7, 74, 48]  \n",
    "merge_sort(list1, 0, len(list1) -1)  \n",
    "print(list1)  "
   ]
  },
  {
   "cell_type": "markdown",
   "metadata": {},
   "source": [
    "# <p align=\"center\">Array Sorting Algorithms</p>\n",
    "\n",
    "| Algorithm                                                                                                                                       | Best Time Complexity | Average Time Complexity | Worst Time Complexity | Space Complexity |\n",
    "| ----------------------------------------------------------------------------------------------------------------------------------------------- | -------------------- | ----------------------- | --------------------- | ---------------- |\n",
    "|                                                                                                                                                 |\n",
    "| [Quicksort]                                                                                                              | `Ω(n log(n))`        | `Θ(n log(n))`           | `O(n^2)`              | `O(log(n))`      |\n",
    "| [Mergesort]                                                                                                              | `Ω(n log(n))`        | `Θ(n log(n))`           | `O(n log(n))`         | `O(n)`           |\n",
    "| Timsort                                                                                                                                         | `Ω(n)`               | `Θ(n log(n))`           | `O(n log(n))`         | `O(n)`           |\n",
    "| [Heapsort] | `Ω(n log(n))`        | `Θ(n log(n))`           | `O(n log(n))`         | `O(1)`           |\n",
    "| [Bubble Sort]                                                                                                            | `Ω(n)`               | `Θ(n^2)`                | `O(n^2)`              | `O(1)`           |\n",
    "| [Insertion Sort]                                                                                                         | `Ω(n)`               | `Θ(n^2)`                | `O(n^2)`              | `O(1)`           |\n",
    "| [Selection Sort]                                                                                                      | `Ω(n^2)`             | `Θ(n^2)`                | `O(n^2)`              | `O(1)`           |\n",
    "| Tree Sort                                                                                                                                       | `Ω(n log(n))`        | `Θ(n log(n))`           | `O(n^2)`              | `O(n)`           |\n",
    "| Shell Sort                                                                                                                                      | `Ω(n log(n))`        | `Θ(n(log(n))^2)`        | `O(n(log(n))^2)`      | `O(1)`           |\n",
    "| Bucket Sort                                                                                                                                     | `Ω(n+k)`             | `Θ(n+k)`                | `O(n^2)`              | `O(n)`           |\n",
    "| [Radix Sort]                                                                                                              | `Ω(nk)`              | `Θ(nk)`                 | `O(nk)`               | `O(n+k)`         |\n",
    "| [Counting Sort]                                                                                                           | `Ω(n+k)`             | `Θ(n+k)`                | `O(n+k)`              | `O(k)`           |\n",
    "| Cubesort                                                                                                                                        | `Ω(n)`               | `Θ(n log(n))`           | `O(n log(n))`         | `O(n)`           |\n"
   ]
  },
  {
   "cell_type": "code",
   "execution_count": null,
   "metadata": {},
   "outputs": [],
   "source": []
  }
 ],
 "metadata": {
  "kernelspec": {
   "display_name": "env_tf",
   "language": "python",
   "name": "python3"
  },
  "language_info": {
   "codemirror_mode": {
    "name": "ipython",
    "version": 3
   },
   "file_extension": ".py",
   "mimetype": "text/x-python",
   "name": "python",
   "nbconvert_exporter": "python",
   "pygments_lexer": "ipython3",
   "version": "3.9.9"
  }
 },
 "nbformat": 4,
 "nbformat_minor": 2
}
