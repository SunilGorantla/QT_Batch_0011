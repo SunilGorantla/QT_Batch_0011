{
 "cells": [
  {
   "cell_type": "markdown",
   "metadata": {},
   "source": [
    "## Table operations\n",
    "A table supports a subset of the following operators (though sometimes it may be combined in design)\n",
    "\n",
    "* **initialize** - Table is initialized to an empty table\n",
    "* **isEmpty** - tests if table is empty\n",
    "* **isFull** - tests if table is full\n",
    "* **insert** - add a new item with key:value to the table\n",
    "* **delete** - given a key remove the record with a matching key\n",
    "* **update** - given a key:value pair change the record in table with matching key to the value\n",
    "* **find** - given a key find the record\n",
    "* **enumerate** - process/list/count all items in the table"
   ]
  },
  {
   "cell_type": "code",
   "execution_count": null,
   "metadata": {},
   "outputs": [],
   "source": [
    "Date\tSales\n",
    "Jan-01\t580\n",
    "Jan-12\t689\n",
    "Jan-24\t865\n",
    "Jan-31\t234\n",
    "Jan-26\t457"
   ]
  },
  {
   "cell_type": "code",
   "execution_count": 4,
   "metadata": {},
   "outputs": [],
   "source": [
    "\n"
   ]
  },
  {
   "cell_type": "code",
   "execution_count": 5,
   "metadata": {},
   "outputs": [
    {
     "name": "stdout",
     "output_type": "stream",
     "text": [
      "865\n"
     ]
    }
   ],
   "source": [
    "x = 'Jan-24'\n",
    "for i in d:\n",
    "    if i[0] == x:\n",
    "        print(i[1])"
   ]
  },
  {
   "cell_type": "code",
   "execution_count": 12,
   "metadata": {},
   "outputs": [
    {
     "name": "stdout",
     "output_type": "stream",
     "text": [
      "[None, None, None, None, None, None, None, None, None, None, None, None, None, None, None, None, None, None, None, None, None, None, None, None, None, None, None, None, None, None, None, None, None, None, None, None, None, None, None, None, None, None, None, None, None, None, None, None, None, None, None, None, None, None, None, None, None, None, None, None]\n",
      "[None, 58, None, None, None, None, None, None, None, None, None, None, 689, None, None, None, None, None, None, None, None, None, None, None, 865, None, None, None, None, None, None, None, 508, None, None, None, None, None, None, None, None, None, None, None, None, None, None, None, None, None, None, None, None, None, None, None, None, None, None, None]\n"
     ]
    }
   ],
   "source": [
    "def hashfunction(key):\n",
    "    if key[0:3] == 'Jan':\n",
    "        return int(key[-2:])\n",
    "    if key[0:3] == 'Feb':\n",
    "        return int(key[-2:]) + 31\n",
    "    \n",
    "    \n",
    "\n",
    "l = [None for i in range(61)]\n",
    "d = [[\"Jan-01\",58], ['Jan-12',689], ['Jan-24', 865], [\"Feb-01\",508]]\n",
    "\n",
    "print(l)\n",
    "\n",
    "for item in d:\n",
    "    l[hashfunction(item[0])] = item[1]\n",
    "print(l)"
   ]
  },
  {
   "cell_type": "code",
   "execution_count": 16,
   "metadata": {},
   "outputs": [
    {
     "data": {
      "text/plain": [
       "32"
      ]
     },
     "execution_count": 16,
     "metadata": {},
     "output_type": "execute_result"
    }
   ],
   "source": []
  },
  {
   "cell_type": "code",
   "execution_count": null,
   "metadata": {},
   "outputs": [],
   "source": [
    "l = ['Raju', 'Rama', \"Ram\"]"
   ]
  }
 ],
 "metadata": {
  "kernelspec": {
   "display_name": "env_tf",
   "language": "python",
   "name": "python3"
  },
  "language_info": {
   "codemirror_mode": {
    "name": "ipython",
    "version": 3
   },
   "file_extension": ".py",
   "mimetype": "text/x-python",
   "name": "python",
   "nbconvert_exporter": "python",
   "pygments_lexer": "ipython3",
   "version": "3.9.9"
  }
 },
 "nbformat": 4,
 "nbformat_minor": 2
}
